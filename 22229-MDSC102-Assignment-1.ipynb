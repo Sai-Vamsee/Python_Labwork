{
 "cells": [
  {
   "cell_type": "markdown",
   "id": "d3e7c58c",
   "metadata": {},
   "source": [
    " In each of the following cases, compute EX, V ar(X) and EXn\n",
    "(for n ≥ 0, an integer)\n",
    "whever they exists."
   ]
  },
  {
   "cell_type": "markdown",
   "id": "8ac16c73",
   "metadata": {},
   "source": [
    "(a) f(x) = e\n",
    "−x\n",
    ", x ≥ 0."
   ]
  },
  {
   "cell_type": "code",
   "execution_count": 1,
   "id": "15dedc33",
   "metadata": {},
   "outputs": [
    {
     "name": "stdout",
     "output_type": "stream",
     "text": [
      "E[x] = 0.9999999999999998\n",
      "E[x^2] = 2.0\n",
      "Var(x) =  1.0000000000000004\n"
     ]
    }
   ],
   "source": [
    "from scipy import integrate\n",
    "import numpy as np\n",
    "\n",
    "def E1(x):\n",
    "    return x * np.exp(-x)\n",
    "\n",
    "def E2(x):\n",
    "    return x**2 * np.exp(-x) \n",
    "\n",
    "v1,e1 = integrate.quad(E1,0,np.Inf)\n",
    "v2,e2 = integrate.quad(E2,0,np.Inf)\n",
    "\n",
    "print(\"E[x] =\",v1)\n",
    "print(\"E[x^2] =\",v2)\n",
    "print(\"Var(x) = \",(v2 - v1**2))"
   ]
  },
  {
   "cell_type": "markdown",
   "id": "d0ede062",
   "metadata": {},
   "source": [
    "(b) f(x) = 1/[π(1 + x 2 )], −∞ < x < ∞."
   ]
  },
  {
   "cell_type": "markdown",
   "id": "db1553c9",
   "metadata": {},
   "source": [
    "(c) f(x) = xe−x\n",
    ", x ≥ 0.\n"
   ]
  },
  {
   "cell_type": "code",
   "execution_count": 3,
   "id": "4931d361",
   "metadata": {},
   "outputs": [
    {
     "name": "stdout",
     "output_type": "stream",
     "text": [
      "E[x] = 2.0\n",
      "E[x^2] = 6.0\n",
      "Var(x) =  2.0\n"
     ]
    }
   ],
   "source": [
    "from scipy import integrate\n",
    "import numpy as np\n",
    "\n",
    "def E1(x):\n",
    "    return x * (x * np.exp(-x))\n",
    "\n",
    "def E2(x):\n",
    "    return x * ( x**2 * np.exp(-x) )\n",
    "\n",
    "v1,e1 = integrate.quad(E1,0,np.Inf)\n",
    "v2,e2 = integrate.quad(E2,0,np.Inf)\n",
    "\n",
    "print(\"E[x] =\",v1)\n",
    "print(\"E[x^2] =\",v2)\n",
    "print(\"Var(x) = \",(v2 - v1**2))"
   ]
  },
  {
   "cell_type": "markdown",
   "id": "3194b12d",
   "metadata": {},
   "source": [
    "(d) f(x) = p(1 − p) x−1 , x = 1, 2, ...; 0 < p < 1."
   ]
  }
 ],
 "metadata": {
  "kernelspec": {
   "display_name": "Python 3 (ipykernel)",
   "language": "python",
   "name": "python3"
  },
  "language_info": {
   "codemirror_mode": {
    "name": "ipython",
    "version": 3
   },
   "file_extension": ".py",
   "mimetype": "text/x-python",
   "name": "python",
   "nbconvert_exporter": "python",
   "pygments_lexer": "ipython3",
   "version": "3.9.13"
  }
 },
 "nbformat": 4,
 "nbformat_minor": 5
}
