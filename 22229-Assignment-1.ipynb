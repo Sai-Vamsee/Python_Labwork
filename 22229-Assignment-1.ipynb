{
 "cells": [
  {
   "cell_type": "markdown",
   "id": "bed8b61a",
   "metadata": {},
   "source": [
    "Q1. Write a program to compute the real roots of the equation  𝑎𝑥2+𝑏𝑥+𝑐."
   ]
  },
  {
   "cell_type": "code",
   "execution_count": null,
   "id": "733cf552",
   "metadata": {
    "scrolled": true
   },
   "outputs": [],
   "source": [
    "import math\n",
    "\n",
    "\"\"\"\n",
    "Summary: A python program to find the roots of equation in the form ax^2+bx+c\n",
    "Author: Doki Sai Vamsee\n",
    "Date: 04-08-22\n",
    "\"\"\"\n",
    "\n",
    "print('enter coefficients in ax^2+bx+c ')\n",
    "\n",
    "x=int(input('enter a:'))\n",
    "y=int(input('enter b:'))\n",
    "z=int(input('enter c:'))\n",
    "\n",
    "w = math.sqrt((y**2)-(4*x*z))\n",
    "solution_1 = (-y+w)/(2*x)\n",
    "solution_2 = (-y-w)/(2*x)\n",
    "\n",
    "print('the two solutions are',solution_1,solution_2)"
   ]
  },
  {
   "cell_type": "markdown",
   "id": "f11ef713",
   "metadata": {},
   "source": [
    "Q2. Write a program to compute the probability  𝑃(𝑋=𝑥),  where  𝑋∼𝐵𝑖𝑛(𝑛=10,𝑝=0.2)"
   ]
  },
  {
   "cell_type": "code",
   "execution_count": 47,
   "id": "4dd4e697",
   "metadata": {},
   "outputs": [
    {
     "name": "stdout",
     "output_type": "stream",
     "text": [
      "enter the number of bernouli trails :10\n",
      "Enter the probability : 2\n",
      "Enter any specific value of random variable : 5\n",
      "Probability must be between 0 and 1\n"
     ]
    }
   ],
   "source": [
    "from math import factorial                              \n",
    "from numpy import power\n",
    "\n",
    "def bin(n,p,x):\n",
    "\n",
    "    \"\"\"\n",
    "        Summary : A python program to compute probability of a binomial random variable.\n",
    "        Author  : Doki Sai Vamsee\n",
    "        Date    : 05-08-22\n",
    "    \"\"\"\n",
    "\n",
    "    ncr = factorial(n) / (factorial(x) * factorial(n-x))           \n",
    "    probability = ncr*(power(p,x))*(power(1-p,n-x))  \n",
    "    print(\"The binomial distribution for is :\",probability)\n",
    "\n",
    "n=int(input('enter the number of bernouli trails :'))\n",
    "p=float(input('Enter the probability : '))\n",
    "x=int(input('Enter any specific value of random variable : '))\n",
    "\n",
    "if p>=0 and p<=1:\n",
    "    if x<n:\n",
    "        bin(n,p,x)\n",
    "    else:\n",
    "        print('x cannot be greater than number of bernouli trails')\n",
    "else:\n",
    "    print('Probability must be between 0 and 1')"
   ]
  },
  {
   "cell_type": "markdown",
   "id": "bf9773f8",
   "metadata": {},
   "source": [
    "Q3. Lets say you are running a 5 km race. Write a program that,\n",
    "\n",
    "Upon completing each 1 km asks you \"are you tired?\"\n",
    "\n",
    "If you reply \"yes\" then it should break and print \"you didn't finish the race\"\n",
    "\n",
    "If you reply \"no\" then it should continue and ask \"are you tired\" on every km\n",
    "\n",
    "If you finish all 5 km then it should print congratulations message"
   ]
  },
  {
   "cell_type": "code",
   "execution_count": null,
   "id": "84727ba1",
   "metadata": {},
   "outputs": [],
   "source": [
    "\"\"\"\n",
    "Summary: Program to find wheather the player is tired or not\n",
    "Author: Doki Sai Vamsee\n",
    "Date: 04-08-22\n",
    "\n",
    "\"\"\"\n",
    "\n",
    "i = 5 \n",
    "\n",
    "for i in range(5):\n",
    "    a = input('Are you tired(reply with yes or no)')\n",
    "    \n",
    "    if a == \"yes\":\n",
    "        print('you didnt finish the race')\n",
    "        \n",
    "        break\n",
    "        \n",
    "if i == 4:\n",
    "    print('Congratulations!!!!!!!!!!!!!!!!!!')\n",
    "    "
   ]
  },
  {
   "cell_type": "markdown",
   "id": "588f9822",
   "metadata": {},
   "source": [
    "Q4. Write a function tip_calc(bill, party), where bill is the total cost of a meal and party is the number of people in the group. The tip should be calculated as 15% for a party strictly less than six people, 18% for a party strictly less than eight, 20% for a party less than 11, and 25% for a party 11 or more. A couple of test cases are given below."
   ]
  },
  {
   "cell_type": "code",
   "execution_count": null,
   "id": "f569237a",
   "metadata": {},
   "outputs": [],
   "source": [
    "def tip_calc(bill,party):  \n",
    "    \n",
    "    \"\"\"\n",
    "        Summary:program to calculate tip for a bill with some people\n",
    "        Author: Doki Sai Vamsee\n",
    "        Date:04-08-22\n",
    "\n",
    "    \"\"\"\n",
    "    \n",
    "    if (party < 6):\n",
    "        tip = bill * 0.15\n",
    "    elif (party >= 6 and party < 8):\n",
    "        tip = bill* 0.18\n",
    "    elif (party >= 8 and party <11):\n",
    "        tip = bill * 0.20\n",
    "    elif (party > 11):\n",
    "        tip = bill *0.25\n",
    "\n",
    "    print('the total tip is: ',tip)\n",
    "    \n",
    "tip_calc(1116,6)"
   ]
  },
  {
   "cell_type": "markdown",
   "id": "f1d0bd64",
   "metadata": {},
   "source": [
    "Q5. Write a function mult_operation(a,b,operation). The input argument, operation, is a string that is either 'plus', 'minus', 'mult', 'div', or 'pow', and the function should compute: a+b, a−b, a∗b, a/b, and ab for the respective values for operation. A couple of test cases are given below."
   ]
  },
  {
   "cell_type": "code",
   "execution_count": 3,
   "id": "4ee3d130",
   "metadata": {},
   "outputs": [
    {
     "name": "stdout",
     "output_type": "stream",
     "text": [
      "enter first number : 6\n",
      "enter second number: 9\n",
      "enter the desired operation(as plus or minus or mult or div or pow) : minus\n",
      "the result after desired operation on the given numbers is :   -3\n"
     ]
    }
   ],
   "source": [
    "def mult_operation(a,b,op):\n",
    "    \n",
    "    \"\"\"\n",
    "        Summary: A python program to perform the desired operation given by the user on two given numbers\n",
    "        Author:Doki Sai Vamsee\n",
    "        Date:04-08-22\n",
    "    \"\"\"\n",
    "\n",
    "    if op == 'plus':\n",
    "        c =a+b\n",
    "    elif op == 'minus':\n",
    "        c = a-b\n",
    "    elif op == 'mult' :\n",
    "        c = a*b\n",
    "    elif op == 'div' :\n",
    "        c = a/b\n",
    "    elif op == 'pow' :\n",
    "        c = a**b\n",
    "    \n",
    "    print ('the result after desired operation on the given numbers is :  ',c)\n",
    "    \n",
    "a=int(input('enter first number : '))\n",
    "b=int(input('enter second number: '))\n",
    "op=input('enter the desired operation(as plus or minus or mult or div or pow) : ')\n",
    "\n",
    "mult_operation(a,b,op)"
   ]
  },
  {
   "cell_type": "markdown",
   "id": "46d46607",
   "metadata": {},
   "source": [
    "Q6. Consider a triangle with vertices at (0,0), (1,0), and (0,1). Write a function inside_triangle(x,y) where the output is the string ‘outside’ if the point (x,y) is outside of the triangle, ‘border’ if the point is exactly on the border of the triangle, and ‘inside’ if the point is on the inside of the triangle."
   ]
  },
  {
   "cell_type": "code",
   "execution_count": null,
   "id": "3fe507ff",
   "metadata": {},
   "outputs": [],
   "source": [
    "def inside_triangle(x,y):\n",
    "    \n",
    "    \"\"\"\n",
    "        A python program to find whether a given point is inside or outside or on the border of a given triangle\n",
    "        Author:Doki Sai Vamsee\n",
    "        Date:05-08-22\n",
    "    \"\"\"\n",
    "    if x>1 and y>1:\n",
    "        print(\"Outside\")\n",
    "    if x==1 and y==1:\n",
    "        print(\"Border\")\n",
    "    if x<1 and y<1:\n",
    "        print(\"Inside\")\n",
    "        \n",
    "a=int(input(\"enter x cordinate :\"))\n",
    "b=int(input(\"enter y cordinate :\"))\n",
    "\n",
    "inside_triangle(a,b)"
   ]
  },
  {
   "cell_type": "markdown",
   "id": "ad9c2bcc",
   "metadata": {},
   "source": [
    "Q7. Write a function letter_grader(percent), where grade is the string ‘O’ if percent is greater than 80, ‘A’ if percent is greater than 70, ‘B‘ if percent is greater than 60, ‘C’ if percent is greater than 40, and ‘F’ if percent is less than 40. Grades exactly on the division should be included in the higher grade category."
   ]
  },
  {
   "cell_type": "code",
   "execution_count": null,
   "id": "ac340d9e",
   "metadata": {},
   "outputs": [],
   "source": [
    "def letter_grade(percent):\n",
    "    \n",
    "    \"\"\"\n",
    "        A python program to give a grade for student based on his percentage\n",
    "        Author:Doki sai Vamsee\n",
    "        Date:05-08-22\n",
    "    \"\"\"\n",
    "\n",
    "    if percent >= 80:\n",
    "        return 'O'\n",
    "    elif percent < 80 and percent >= 70:\n",
    "        return 'A'\n",
    "    elif percent < 70 and percent >= 60:\n",
    "        return 'B'\n",
    "    elif percent < 60 and percent >= 40:\n",
    "        return 'C'\n",
    "    elif percent < 40:\n",
    "        return 'F'\n",
    "    \n",
    "percent = int(input('enter your percentage :' ))\n",
    "\n",
    "x= letter_grade(percent)\n",
    "print('your grade is :',x)"
   ]
  },
  {
   "cell_type": "markdown",
   "id": "9aec2664",
   "metadata": {},
   "source": [
    "Q8. Consider a nuclear reactor whose temperature is monitored by three sensors. An alarm should go off if any two of the sensor readings disagree. Write a function nuke_alarm(s1,s2,s3) where s1, s2, and s3 are the temperature readings for sensor 1, sensor 2, and sensor 3, respectively. The output should be the string ‘alarm!’ if any two of the temperature readings disagree by strictly more than 10 degrees and ‘normal’ otherwise."
   ]
  },
  {
   "cell_type": "code",
   "execution_count": null,
   "id": "7a88687c",
   "metadata": {},
   "outputs": [],
   "source": [
    "import math\n",
    "\n",
    "def nuke_alarm(s1,s2,s3):\n",
    "    \n",
    "    \"\"\"\n",
    "        Summary: A python program to give an alarm if the temperature readings between any two sensors differ by more then ten degrees\n",
    "        Author: Doki Sai Vamsee\n",
    "        Date: 05-08-22\n",
    "    \"\"\"\n",
    "    if s1-s2>10 or s1-s3>10 or s2-s1>10 or s2-s3>10 or s3-s2>10 or s3-s1>10:\n",
    "        print(\"Alarm!\")\n",
    "    else:\n",
    "        print(\"Normal\")\n",
    "\n",
    "        \n",
    "s1=int(input(\"Enter temperature of sensor 1 :\"))\n",
    "s2=int(input(\"Enter temperature of sensor 2 :\"))\n",
    "s3=int(input(\"Enter temperature of sensor 3 :\"))\n",
    "\n",
    "\n",
    "nuke_alarm(s1,s2,s3)"
   ]
  },
  {
   "cell_type": "markdown",
   "id": "5970d248",
   "metadata": {},
   "source": [
    "Q9. Write a function n_odds(x), where  𝑥  is a one-dimensional array of floats and the output is the number of odd numbers in  𝑥."
   ]
  },
  {
   "cell_type": "code",
   "execution_count": 2,
   "id": "b85d18c0",
   "metadata": {},
   "outputs": [
    {
     "name": "stdout",
     "output_type": "stream",
     "text": [
      "enter how many elements you want in the list : 5\n",
      "enter the element : 1\n",
      "enter the element : 2\n",
      "enter the element : 3\n",
      "enter the element : 4\n",
      "enter the element : 5\n",
      "the number of odd numbers in the list are : 3\n"
     ]
    }
   ],
   "source": [
    "def n_odds(x):\n",
    "\n",
    "    \"\"\"\n",
    "        Summary: A python program to find number of odd numbers in a given  one dimentional array\n",
    "        Author: Doki Sai Vamsee\n",
    "        Date: 05-08-22\n",
    "    \"\"\"\n",
    "    count = 0\n",
    "    for i in x:\n",
    "        if i % 2 != 0:\n",
    "            count = count + 1 \n",
    "    return count\n",
    "            \n",
    "a = int(input('enter how many elements you want in the list : '))\n",
    "b=[]\n",
    "for i in range (a):\n",
    "    temp= int(input('enter the element : '))\n",
    "    b.append(temp)\n",
    "    \n",
    "c = n_odds(b)\n",
    "    \n",
    "print('the number of odd numbers in the list are :',c)"
   ]
  },
  {
   "cell_type": "markdown",
   "id": "ec74d4ee",
   "metadata": {},
   "source": [
    "Q10. Write a function vol_cylinder(r,h), where  𝑟  and  ℎ  are the radius and height of a cylinder, respectively, and the output is a list  [𝑠,𝑣]  where  𝑠  and  𝑣  are the surface area and volume of the same cylinder, respectively. Recall that the surface area of a cylinder is  2π𝑟2+2π𝑟ℎ,  and the volume is  π𝑟2ℎ.  Assume that  𝑟  and  ℎ  are 1 by 1 float."
   ]
  },
  {
   "cell_type": "code",
   "execution_count": null,
   "id": "76e40d10",
   "metadata": {},
   "outputs": [],
   "source": [
    "import math\n",
    "\n",
    "def vol_cylinder(r,h):\n",
    "    \n",
    "    \"\"\"\n",
    "        Summary: A python program to find the surface area and volume of a cylinder given raduis anf height of the cylinder.\n",
    "        Author: Doki Sai Vamsee\n",
    "        Date: 05-08-22\n",
    "    \"\"\"\n",
    "\n",
    "    s = (2)*(math.pi)*(r**2)+(2)*(math.pi)*(r)*(h)\n",
    "    v = (math.pi)*(r**2)*(h)\n",
    "\n",
    "    return(s,v)\n",
    "\n",
    "r = int(input('enter radius of the cylinder :'))\n",
    "h = int(input('enter height of the cylinder :'))\n",
    "\n",
    "vol_cylinder(r,h)"
   ]
  },
  {
   "cell_type": "code",
   "execution_count": null,
   "id": "58387524",
   "metadata": {},
   "outputs": [],
   "source": []
  }
 ],
 "metadata": {
  "kernelspec": {
   "display_name": "Python 3 (ipykernel)",
   "language": "python",
   "name": "python3"
  },
  "language_info": {
   "codemirror_mode": {
    "name": "ipython",
    "version": 3
   },
   "file_extension": ".py",
   "mimetype": "text/x-python",
   "name": "python",
   "nbconvert_exporter": "python",
   "pygments_lexer": "ipython3",
   "version": "3.9.13"
  }
 },
 "nbformat": 4,
 "nbformat_minor": 5
}
