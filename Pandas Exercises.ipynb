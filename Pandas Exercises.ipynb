{
 "cells": [
  {
   "cell_type": "markdown",
   "id": "6a63e297",
   "metadata": {},
   "source": [
    "Author : Doki Sai Vamsee"
   ]
  },
  {
   "cell_type": "code",
   "execution_count": 2,
   "id": "91673b38",
   "metadata": {},
   "outputs": [],
   "source": [
    "import numpy as np\n",
    "import pandas as pd"
   ]
  },
  {
   "cell_type": "markdown",
   "id": "5c931fac",
   "metadata": {},
   "source": [
    "### 1. How to import pandas and check the version?"
   ]
  },
  {
   "cell_type": "code",
   "execution_count": 1,
   "id": "f7ed4230",
   "metadata": {},
   "outputs": [
    {
     "name": "stdout",
     "output_type": "stream",
     "text": [
      "1.4.3\n",
      "{\n",
      "  \"system\": {\n",
      "    \"commit\": \"e8093ba372f9adfe79439d90fe74b0b5b6dea9d6\",\n",
      "    \"python\": \"3.9.13.final.0\",\n",
      "    \"python-bits\": 64,\n",
      "    \"OS\": \"Windows\",\n",
      "    \"OS-release\": \"10\",\n",
      "    \"Version\": \"10.0.19044\",\n",
      "    \"machine\": \"AMD64\",\n",
      "    \"processor\": \"Intel64 Family 6 Model 23 Stepping 10, GenuineIntel\",\n",
      "    \"byteorder\": \"little\",\n",
      "    \"LC_ALL\": null,\n",
      "    \"LANG\": null,\n",
      "    \"LOCALE\": {\n",
      "      \"language-code\": \"English_India\",\n",
      "      \"encoding\": \"1252\"\n",
      "    }\n",
      "  },\n",
      "  \"dependencies\": {\n",
      "    \"pandas\": \"1.4.3\",\n",
      "    \"numpy\": \"1.23.1\",\n",
      "    \"pytz\": \"2022.1\",\n",
      "    \"dateutil\": \"2.8.2\",\n",
      "    \"setuptools\": \"58.1.0\",\n",
      "    \"pip\": \"22.0.4\",\n",
      "    \"Cython\": null,\n",
      "    \"pytest\": null,\n",
      "    \"hypothesis\": null,\n",
      "    \"sphinx\": null,\n",
      "    \"blosc\": null,\n",
      "    \"feather\": null,\n",
      "    \"xlsxwriter\": null,\n",
      "    \"lxml.etree\": null,\n",
      "    \"html5lib\": null,\n",
      "    \"pymysql\": null,\n",
      "    \"psycopg2\": null,\n",
      "    \"jinja2\": \"3.1.2\",\n",
      "    \"IPython\": \"8.4.0\",\n",
      "    \"pandas_datareader\": null,\n",
      "    \"bs4\": \"4.11.1\",\n",
      "    \"bottleneck\": null,\n",
      "    \"brotli\": null,\n",
      "    \"fastparquet\": null,\n",
      "    \"fsspec\": null,\n",
      "    \"gcsfs\": null,\n",
      "    \"markupsafe\": \"2.1.1\",\n",
      "    \"matplotlib\": \"3.5.2\",\n",
      "    \"numba\": null,\n",
      "    \"numexpr\": null,\n",
      "    \"odfpy\": null,\n",
      "    \"openpyxl\": null,\n",
      "    \"pandas_gbq\": null,\n",
      "    \"pyarrow\": null,\n",
      "    \"pyreadstat\": null,\n",
      "    \"pyxlsb\": null,\n",
      "    \"s3fs\": null,\n",
      "    \"scipy\": \"1.8.1\",\n",
      "    \"snappy\": null,\n",
      "    \"sqlalchemy\": null,\n",
      "    \"tables\": null,\n",
      "    \"tabulate\": null,\n",
      "    \"xarray\": null,\n",
      "    \"xlrd\": null,\n",
      "    \"xlwt\": null,\n",
      "    \"zstandard\": null\n",
      "  }\n",
      "}None\n"
     ]
    }
   ],
   "source": [
    "import pandas as pd\n",
    "print(pd.__version__)\n",
    "print(pd.show_versions(as_json=True))"
   ]
  },
  {
   "cell_type": "markdown",
   "id": "966972bd",
   "metadata": {},
   "source": [
    "### 2. How to create a series from a list, numpy array and dict?"
   ]
  },
  {
   "cell_type": "code",
   "execution_count": 3,
   "id": "13b4235e",
   "metadata": {},
   "outputs": [
    {
     "name": "stdout",
     "output_type": "stream",
     "text": [
      "s    0\n",
      "a    4\n",
      "i    2\n",
      "r    3\n",
      "m    5\n",
      "dtype: int32\n"
     ]
    }
   ],
   "source": [
    "import numpy as np\n",
    "import pandas as pd\n",
    "\n",
    "a = list('sairam')\n",
    "b = np.arange(6)\n",
    "c = dict(zip(a,b))\n",
    "\n",
    "series1 = pd.Series(a)\n",
    "series2 = pd.Series(b)\n",
    "series3 = pd.Series(c)\n",
    "\n",
    "print(series3)"
   ]
  },
  {
   "cell_type": "markdown",
   "id": "acdc0471",
   "metadata": {},
   "source": [
    "### 3. How to convert the index of a series into a column of a dataframe?"
   ]
  },
  {
   "cell_type": "code",
   "execution_count": 65,
   "id": "d2928437",
   "metadata": {},
   "outputs": [
    {
     "name": "stdout",
     "output_type": "stream",
     "text": [
      "  index  0\n",
      "0     a  0\n",
      "1     b  1\n",
      "2     c  2\n",
      "3     e  3\n",
      "4     d  4\n"
     ]
    }
   ],
   "source": [
    "mylist = list('abcedfghijklmnopqrstuvwxyz')\n",
    "myarr = np.arange(26)\n",
    "mydict = dict(zip(mylist, myarr))\n",
    "ser = pd.Series(mydict)\n",
    "df = ser.to_frame().reset_index()\n",
    "print(df.head())"
   ]
  },
  {
   "cell_type": "markdown",
   "id": "33258058",
   "metadata": {},
   "source": [
    "### 4. How to combine many series to form a dataframe?"
   ]
  },
  {
   "cell_type": "code",
   "execution_count": 7,
   "id": "bfe5daaa",
   "metadata": {},
   "outputs": [
    {
     "name": "stdout",
     "output_type": "stream",
     "text": [
      "     names  weight\n",
      "0      sai      55\n",
      "1      ram      85\n",
      "2  krishna      60\n",
      "3    rocky      78\n"
     ]
    }
   ],
   "source": [
    "import pandas as pd\n",
    "\n",
    "series = {\n",
    "    \"names\":['sai','ram','krishna','rocky'],\n",
    "    \"weight\":[55,85,60,78]\n",
    "}\n",
    "\n",
    "temp = pd.DataFrame(series)\n",
    "\n",
    "print(temp)"
   ]
  },
  {
   "cell_type": "markdown",
   "id": "0fd86f5d",
   "metadata": {},
   "source": [
    "### 5. How to assign name to the series’ index?"
   ]
  },
  {
   "cell_type": "code",
   "execution_count": 13,
   "id": "55783d78",
   "metadata": {},
   "outputs": [
    {
     "name": "stdout",
     "output_type": "stream",
     "text": [
      "0    34.0\n",
      "1    35.6\n",
      "2    20.8\n",
      "3    40.5\n",
      "Name: Temperatures, dtype: float64\n"
     ]
    }
   ],
   "source": [
    "a = pd.Series([34.0,35.6,20.8,40.5])\n",
    "\n",
    "a.name = 'Temperatures'\n",
    "print(a)"
   ]
  },
  {
   "cell_type": "markdown",
   "id": "fff03ea8",
   "metadata": {},
   "source": [
    "### 6.How to get the items of series A not present in series B?"
   ]
  },
  {
   "cell_type": "code",
   "execution_count": 11,
   "id": "030a5440",
   "metadata": {},
   "outputs": [
    {
     "name": "stdout",
     "output_type": "stream",
     "text": [
      "series 1 :\n",
      "0    12\n",
      "1    23\n",
      "2    45\n",
      "3    56\n",
      "4    78\n",
      "5    89\n",
      "dtype: int64\n",
      "\n",
      "series 2 :\n",
      "0    12\n",
      "1    54\n",
      "2    65\n",
      "3    23\n",
      "4    89\n",
      "5    87\n",
      "dtype: int64\n",
      "Items in 'a' that are not present in 'b' :\n",
      "2    45\n",
      "3    56\n",
      "4    78\n",
      "dtype: int64\n"
     ]
    }
   ],
   "source": [
    "import pandas as pd\n",
    "\n",
    "a = pd.Series([12,23,45,56,78,89])\n",
    "b = pd.Series([12,54,65,23,89,87])\n",
    "\n",
    "print('series 1 :')\n",
    "print(a)\n",
    "print('\\nseries 2 :')\n",
    "print(b)\n",
    "\n",
    "print(\"Items in 'a' that are not present in 'b' :\")\n",
    "c = a[~a.isin(b)]\n",
    "print(c)"
   ]
  },
  {
   "cell_type": "markdown",
   "id": "2e09bc18",
   "metadata": {},
   "source": [
    "### 7. How to get the items not common to both series A and series B?\n"
   ]
  },
  {
   "cell_type": "code",
   "execution_count": 15,
   "id": "5a285e66",
   "metadata": {},
   "outputs": [
    {
     "name": "stdout",
     "output_type": "stream",
     "text": [
      "series 1 :\n",
      "0    1\n",
      "1    2\n",
      "2    3\n",
      "3    4\n",
      "4    5\n",
      "5    6\n",
      "6    7\n",
      "7    8\n",
      "8    9\n",
      "dtype: int64\n",
      "\n",
      "series 2 :\n",
      "0     1\n",
      "1    23\n",
      "2     4\n",
      "3    56\n",
      "4     7\n",
      "5    89\n",
      "6     9\n",
      "7    87\n",
      "8     5\n",
      "dtype: int64\n",
      "1      2\n",
      "2      3\n",
      "5      6\n",
      "7      8\n",
      "9     23\n",
      "10    56\n",
      "11    87\n",
      "12    89\n",
      "dtype: int64\n"
     ]
    }
   ],
   "source": [
    "a = pd.Series([1,2,3,4,5,6,7,8,9])\n",
    "b = pd.Series([1,23,4,56,7,89,9,87,5])\n",
    "\n",
    "print('series 1 :')\n",
    "print(a)\n",
    "print('\\nseries 2 :')\n",
    "print(b)\n",
    "\n",
    "#union\n",
    "temp = pd.Series(np.union1d(a,b))\n",
    "\n",
    "#intersection\n",
    "temp2 = pd.Series(np.intersect1d(a,b))\n",
    "\n",
    "#getting uncommon elements\n",
    "uncom = temp[~temp.isin(temp2)]\n",
    "\n",
    "print(uncom)"
   ]
  },
  {
   "cell_type": "markdown",
   "id": "a5b9d73a",
   "metadata": {},
   "source": [
    "### 8. How to get the minimum, 25th percentile, median, 75th, and max of a numeric series?"
   ]
  },
  {
   "cell_type": "code",
   "execution_count": 16,
   "id": "287b32b4",
   "metadata": {},
   "outputs": [
    {
     "data": {
      "text/plain": [
       "array([-0.44533179,  6.20060621,  9.59564845, 13.41401188, 19.60689387])"
      ]
     },
     "execution_count": 16,
     "metadata": {},
     "output_type": "execute_result"
    }
   ],
   "source": [
    "state = np.random.RandomState(500)\n",
    "a = pd.Series(state.normal(10, 5, 25))\n",
    "\n",
    "# Solution\n",
    "np.percentile(a, q=[0, 25, 50, 75, 100])"
   ]
  },
  {
   "cell_type": "markdown",
   "id": "7717667f",
   "metadata": {},
   "source": [
    "### 9. How to get frequency counts of unique items of a series?"
   ]
  },
  {
   "cell_type": "code",
   "execution_count": 19,
   "id": "7fcc6706",
   "metadata": {},
   "outputs": [
    {
     "name": "stdout",
     "output_type": "stream",
     "text": [
      "0     1\n",
      "1     2\n",
      "2     3\n",
      "3     1\n",
      "4     5\n",
      "5     4\n",
      "6     2\n",
      "7     9\n",
      "8     8\n",
      "9     7\n",
      "10    6\n",
      "11    5\n",
      "dtype: int64\n",
      "1    2\n",
      "2    2\n",
      "5    2\n",
      "3    1\n",
      "4    1\n",
      "9    1\n",
      "8    1\n",
      "7    1\n",
      "6    1\n",
      "dtype: int64\n"
     ]
    }
   ],
   "source": [
    "a = pd.Series([1,2,3,1,5,4,2,9,8,7,6,5])\n",
    " \n",
    "print(a)\n",
    "print(a.value_counts())"
   ]
  },
  {
   "cell_type": "markdown",
   "id": "63d14650",
   "metadata": {},
   "source": [
    "### 10. How to keep only top 2 most frequent values as it is and replace everything else as ‘Other’?"
   ]
  },
  {
   "cell_type": "code",
   "execution_count": 22,
   "id": "23173d4a",
   "metadata": {},
   "outputs": [
    {
     "name": "stdout",
     "output_type": "stream",
     "text": [
      "0         1\n",
      "1         2\n",
      "2     other\n",
      "3         1\n",
      "4     other\n",
      "5     other\n",
      "6         2\n",
      "7     other\n",
      "8     other\n",
      "9     other\n",
      "10    other\n",
      "11    other\n",
      "dtype: object\n"
     ]
    }
   ],
   "source": [
    "series = pd.Series([1,2,3,1,5,4,2,9,8,7,6,5])\n",
    "  \n",
    "freq = series.value_counts()\n",
    "  \n",
    "series[~series.isin(freq .index[:2])] = 'other'\n",
    "print(series)"
   ]
  },
  {
   "cell_type": "markdown",
   "id": "c6f06664",
   "metadata": {},
   "source": [
    "### 12. How to convert a numpy array to a dataframe of given shape? (L1)"
   ]
  },
  {
   "cell_type": "code",
   "execution_count": 23,
   "id": "3c393b50",
   "metadata": {},
   "outputs": [
    {
     "name": "stdout",
     "output_type": "stream",
     "text": [
      "    0   1   2\n",
      "0  15  22  43\n",
      "1  33  24  56\n"
     ]
    }
   ],
   "source": [
    "array = np.array([[15, 22, 43], \n",
    "                  [33, 24, 56]])\n",
    "\n",
    "temp = pd.DataFrame(array)\n",
    "\n",
    "\n",
    "print(temp)"
   ]
  },
  {
   "cell_type": "markdown",
   "id": "2dedc342",
   "metadata": {},
   "source": [
    "### 13. How to find the positions of numbers that are multiples of 3 from a series?"
   ]
  },
  {
   "cell_type": "code",
   "execution_count": 80,
   "id": "e249e485",
   "metadata": {},
   "outputs": [
    {
     "name": "stdout",
     "output_type": "stream",
     "text": [
      "0    1\n",
      "1    3\n",
      "2    1\n",
      "3    4\n",
      "4    3\n",
      "dtype: int32\n"
     ]
    },
    {
     "ename": "ValueError",
     "evalue": "Length of values (1) does not match length of index (5)",
     "output_type": "error",
     "traceback": [
      "\u001b[1;31m---------------------------------------------------------------------------\u001b[0m",
      "\u001b[1;31mValueError\u001b[0m                                Traceback (most recent call last)",
      "Input \u001b[1;32mIn [80]\u001b[0m, in \u001b[0;36m<cell line: 5>\u001b[1;34m()\u001b[0m\n\u001b[0;32m      1\u001b[0m ser \u001b[38;5;241m=\u001b[39m pd\u001b[38;5;241m.\u001b[39mSeries(np\u001b[38;5;241m.\u001b[39mrandom\u001b[38;5;241m.\u001b[39mrandint(\u001b[38;5;241m1\u001b[39m,\u001b[38;5;241m5\u001b[39m,\u001b[38;5;241m5\u001b[39m))\n\u001b[0;32m      3\u001b[0m \u001b[38;5;28mprint\u001b[39m(ser)\n\u001b[1;32m----> 5\u001b[0m \u001b[43mnp\u001b[49m\u001b[38;5;241;43m.\u001b[39;49m\u001b[43margwhere\u001b[49m\u001b[43m(\u001b[49m\u001b[43mser\u001b[49m\u001b[43m \u001b[49m\u001b[38;5;241;43m%\u001b[39;49m\u001b[43m \u001b[49m\u001b[38;5;241;43m3\u001b[39;49m\u001b[38;5;241;43m==\u001b[39;49m\u001b[38;5;241;43m0\u001b[39;49m\u001b[43m)\u001b[49m\n",
      "File \u001b[1;32m<__array_function__ internals>:180\u001b[0m, in \u001b[0;36margwhere\u001b[1;34m(*args, **kwargs)\u001b[0m\n",
      "File \u001b[1;32m~\\AppData\\Local\\Programs\\Python\\Python39\\lib\\site-packages\\numpy\\core\\numeric.py:624\u001b[0m, in \u001b[0;36margwhere\u001b[1;34m(a)\u001b[0m\n\u001b[0;32m    622\u001b[0m     \u001b[38;5;66;03m# then remove the added dimension\u001b[39;00m\n\u001b[0;32m    623\u001b[0m     \u001b[38;5;28;01mreturn\u001b[39;00m argwhere(a)[:,:\u001b[38;5;241m0\u001b[39m]\n\u001b[1;32m--> 624\u001b[0m \u001b[38;5;28;01mreturn\u001b[39;00m transpose(\u001b[43mnonzero\u001b[49m\u001b[43m(\u001b[49m\u001b[43ma\u001b[49m\u001b[43m)\u001b[49m)\n",
      "File \u001b[1;32m<__array_function__ internals>:180\u001b[0m, in \u001b[0;36mnonzero\u001b[1;34m(*args, **kwargs)\u001b[0m\n",
      "File \u001b[1;32m~\\AppData\\Local\\Programs\\Python\\Python39\\lib\\site-packages\\numpy\\core\\fromnumeric.py:1958\u001b[0m, in \u001b[0;36mnonzero\u001b[1;34m(a)\u001b[0m\n\u001b[0;32m   1866\u001b[0m \u001b[38;5;129m@array_function_dispatch\u001b[39m(_nonzero_dispatcher)\n\u001b[0;32m   1867\u001b[0m \u001b[38;5;28;01mdef\u001b[39;00m \u001b[38;5;21mnonzero\u001b[39m(a):\n\u001b[0;32m   1868\u001b[0m     \u001b[38;5;124;03m\"\"\"\u001b[39;00m\n\u001b[0;32m   1869\u001b[0m \u001b[38;5;124;03m    Return the indices of the elements that are non-zero.\u001b[39;00m\n\u001b[0;32m   1870\u001b[0m \n\u001b[1;32m   (...)\u001b[0m\n\u001b[0;32m   1956\u001b[0m \n\u001b[0;32m   1957\u001b[0m \u001b[38;5;124;03m    \"\"\"\u001b[39;00m\n\u001b[1;32m-> 1958\u001b[0m     \u001b[38;5;28;01mreturn\u001b[39;00m \u001b[43m_wrapfunc\u001b[49m\u001b[43m(\u001b[49m\u001b[43ma\u001b[49m\u001b[43m,\u001b[49m\u001b[43m \u001b[49m\u001b[38;5;124;43m'\u001b[39;49m\u001b[38;5;124;43mnonzero\u001b[39;49m\u001b[38;5;124;43m'\u001b[39;49m\u001b[43m)\u001b[49m\n",
      "File \u001b[1;32m~\\AppData\\Local\\Programs\\Python\\Python39\\lib\\site-packages\\numpy\\core\\fromnumeric.py:54\u001b[0m, in \u001b[0;36m_wrapfunc\u001b[1;34m(obj, method, *args, **kwds)\u001b[0m\n\u001b[0;32m     52\u001b[0m bound \u001b[38;5;241m=\u001b[39m \u001b[38;5;28mgetattr\u001b[39m(obj, method, \u001b[38;5;28;01mNone\u001b[39;00m)\n\u001b[0;32m     53\u001b[0m \u001b[38;5;28;01mif\u001b[39;00m bound \u001b[38;5;129;01mis\u001b[39;00m \u001b[38;5;28;01mNone\u001b[39;00m:\n\u001b[1;32m---> 54\u001b[0m     \u001b[38;5;28;01mreturn\u001b[39;00m _wrapit(obj, method, \u001b[38;5;241m*\u001b[39margs, \u001b[38;5;241m*\u001b[39m\u001b[38;5;241m*\u001b[39mkwds)\n\u001b[0;32m     56\u001b[0m \u001b[38;5;28;01mtry\u001b[39;00m:\n\u001b[0;32m     57\u001b[0m     \u001b[38;5;28;01mreturn\u001b[39;00m bound(\u001b[38;5;241m*\u001b[39margs, \u001b[38;5;241m*\u001b[39m\u001b[38;5;241m*\u001b[39mkwds)\n",
      "File \u001b[1;32m~\\AppData\\Local\\Programs\\Python\\Python39\\lib\\site-packages\\numpy\\core\\fromnumeric.py:47\u001b[0m, in \u001b[0;36m_wrapit\u001b[1;34m(obj, method, *args, **kwds)\u001b[0m\n\u001b[0;32m     45\u001b[0m     \u001b[38;5;28;01mif\u001b[39;00m \u001b[38;5;129;01mnot\u001b[39;00m \u001b[38;5;28misinstance\u001b[39m(result, mu\u001b[38;5;241m.\u001b[39mndarray):\n\u001b[0;32m     46\u001b[0m         result \u001b[38;5;241m=\u001b[39m asarray(result)\n\u001b[1;32m---> 47\u001b[0m     result \u001b[38;5;241m=\u001b[39m \u001b[43mwrap\u001b[49m\u001b[43m(\u001b[49m\u001b[43mresult\u001b[49m\u001b[43m)\u001b[49m\n\u001b[0;32m     48\u001b[0m \u001b[38;5;28;01mreturn\u001b[39;00m result\n",
      "File \u001b[1;32m~\\AppData\\Local\\Programs\\Python\\Python39\\lib\\site-packages\\pandas\\core\\generic.py:2095\u001b[0m, in \u001b[0;36mNDFrame.__array_wrap__\u001b[1;34m(self, result, context)\u001b[0m\n\u001b[0;32m   2093\u001b[0m     \u001b[38;5;28;01mreturn\u001b[39;00m res\n\u001b[0;32m   2094\u001b[0m d \u001b[38;5;241m=\u001b[39m \u001b[38;5;28mself\u001b[39m\u001b[38;5;241m.\u001b[39m_construct_axes_dict(\u001b[38;5;28mself\u001b[39m\u001b[38;5;241m.\u001b[39m_AXIS_ORDERS, copy\u001b[38;5;241m=\u001b[39m\u001b[38;5;28;01mFalse\u001b[39;00m)\n\u001b[1;32m-> 2095\u001b[0m \u001b[38;5;28;01mreturn\u001b[39;00m \u001b[38;5;28mself\u001b[39m\u001b[38;5;241m.\u001b[39m_constructor(res, \u001b[38;5;241m*\u001b[39m\u001b[38;5;241m*\u001b[39md)\u001b[38;5;241m.\u001b[39m__finalize__(\u001b[38;5;28mself\u001b[39m, method\u001b[38;5;241m=\u001b[39m\u001b[38;5;124m\"\u001b[39m\u001b[38;5;124m__array_wrap__\u001b[39m\u001b[38;5;124m\"\u001b[39m)\n",
      "File \u001b[1;32m~\\AppData\\Local\\Programs\\Python\\Python39\\lib\\site-packages\\pandas\\core\\series.py:442\u001b[0m, in \u001b[0;36mSeries.__init__\u001b[1;34m(self, data, index, dtype, name, copy, fastpath)\u001b[0m\n\u001b[0;32m    440\u001b[0m     index \u001b[38;5;241m=\u001b[39m default_index(\u001b[38;5;28mlen\u001b[39m(data))\n\u001b[0;32m    441\u001b[0m \u001b[38;5;28;01melif\u001b[39;00m is_list_like(data):\n\u001b[1;32m--> 442\u001b[0m     \u001b[43mcom\u001b[49m\u001b[38;5;241;43m.\u001b[39;49m\u001b[43mrequire_length_match\u001b[49m\u001b[43m(\u001b[49m\u001b[43mdata\u001b[49m\u001b[43m,\u001b[49m\u001b[43m \u001b[49m\u001b[43mindex\u001b[49m\u001b[43m)\u001b[49m\n\u001b[0;32m    444\u001b[0m \u001b[38;5;66;03m# create/copy the manager\u001b[39;00m\n\u001b[0;32m    445\u001b[0m \u001b[38;5;28;01mif\u001b[39;00m \u001b[38;5;28misinstance\u001b[39m(data, (SingleBlockManager, SingleArrayManager)):\n",
      "File \u001b[1;32m~\\AppData\\Local\\Programs\\Python\\Python39\\lib\\site-packages\\pandas\\core\\common.py:557\u001b[0m, in \u001b[0;36mrequire_length_match\u001b[1;34m(data, index)\u001b[0m\n\u001b[0;32m    553\u001b[0m \u001b[38;5;124;03m\"\"\"\u001b[39;00m\n\u001b[0;32m    554\u001b[0m \u001b[38;5;124;03mCheck the length of data matches the length of the index.\u001b[39;00m\n\u001b[0;32m    555\u001b[0m \u001b[38;5;124;03m\"\"\"\u001b[39;00m\n\u001b[0;32m    556\u001b[0m \u001b[38;5;28;01mif\u001b[39;00m \u001b[38;5;28mlen\u001b[39m(data) \u001b[38;5;241m!=\u001b[39m \u001b[38;5;28mlen\u001b[39m(index):\n\u001b[1;32m--> 557\u001b[0m     \u001b[38;5;28;01mraise\u001b[39;00m \u001b[38;5;167;01mValueError\u001b[39;00m(\n\u001b[0;32m    558\u001b[0m         \u001b[38;5;124m\"\u001b[39m\u001b[38;5;124mLength of values \u001b[39m\u001b[38;5;124m\"\u001b[39m\n\u001b[0;32m    559\u001b[0m         \u001b[38;5;124mf\u001b[39m\u001b[38;5;124m\"\u001b[39m\u001b[38;5;124m(\u001b[39m\u001b[38;5;132;01m{\u001b[39;00m\u001b[38;5;28mlen\u001b[39m(data)\u001b[38;5;132;01m}\u001b[39;00m\u001b[38;5;124m) \u001b[39m\u001b[38;5;124m\"\u001b[39m\n\u001b[0;32m    560\u001b[0m         \u001b[38;5;124m\"\u001b[39m\u001b[38;5;124mdoes not match length of index \u001b[39m\u001b[38;5;124m\"\u001b[39m\n\u001b[0;32m    561\u001b[0m         \u001b[38;5;124mf\u001b[39m\u001b[38;5;124m\"\u001b[39m\u001b[38;5;124m(\u001b[39m\u001b[38;5;132;01m{\u001b[39;00m\u001b[38;5;28mlen\u001b[39m(index)\u001b[38;5;132;01m}\u001b[39;00m\u001b[38;5;124m)\u001b[39m\u001b[38;5;124m\"\u001b[39m\n\u001b[0;32m    562\u001b[0m     )\n",
      "\u001b[1;31mValueError\u001b[0m: Length of values (1) does not match length of index (5)"
     ]
    }
   ],
   "source": [
    "ser = pd.Series(np.random.randint(1,5,5))\n",
    "\n",
    "print(ser)\n",
    "\n",
    "np.argwhere(ser % 3==0)"
   ]
  },
  {
   "cell_type": "markdown",
   "id": "d74fdd39",
   "metadata": {},
   "source": [
    "### 14. How to extract items at given positions from a series"
   ]
  },
  {
   "cell_type": "code",
   "execution_count": 16,
   "id": "db2c2544",
   "metadata": {},
   "outputs": [
    {
     "data": {
      "text/plain": [
       "0     1\n",
       "3     1\n",
       "6     2\n",
       "10    6\n",
       "dtype: int64"
      ]
     },
     "execution_count": 16,
     "metadata": {},
     "output_type": "execute_result"
    }
   ],
   "source": [
    "a = pd.Series([1,2,3,1,5,4,2,9,8,7,6,5])\n",
    "pos = [0,3,6,10]\n",
    "\n",
    "a.take(pos)"
   ]
  },
  {
   "cell_type": "markdown",
   "id": "019daabb",
   "metadata": {},
   "source": [
    "### 15. How to stack two series vertically and horizontally ?"
   ]
  },
  {
   "cell_type": "code",
   "execution_count": 24,
   "id": "c9e47cde",
   "metadata": {},
   "outputs": [
    {
     "name": "stdout",
     "output_type": "stream",
     "text": [
      "vertical Stack\n",
      "0    S\n",
      "1    a\n",
      "2    i\n",
      "3    r\n",
      "4    a\n",
      "5    m\n",
      "0    1\n",
      "1    2\n",
      "2    3\n",
      "3    4\n",
      "4    5\n",
      "5    6\n",
      "dtype: object\n",
      "Horizontal stack\n",
      "   0  1\n",
      "0  S  1\n",
      "1  a  2\n",
      "2  i  3\n",
      "3  r  4\n",
      "4  a  5\n",
      "5  m  6\n"
     ]
    }
   ],
   "source": [
    "a = pd.Series(['S','a','i','r','a','m',])\n",
    "b = pd.Series([1,2,3,4,5,6])\n",
    "\n",
    "print('vertical Stack')\n",
    "print(pd.concat([a,b],axis = 0))\n",
    "\n",
    "print('Horizontal stack')\n",
    "print(pd.concat([a,b],axis = 1))"
   ]
  },
  {
   "cell_type": "markdown",
   "id": "75e5e0fd",
   "metadata": {},
   "source": [
    "### 16. How to get the positions of items of series A in another series B?\n"
   ]
  },
  {
   "cell_type": "code",
   "execution_count": 27,
   "id": "fa047501",
   "metadata": {},
   "outputs": [
    {
     "name": "stdout",
     "output_type": "stream",
     "text": [
      "Positions of items of b in a:\n"
     ]
    },
    {
     "data": {
      "text/plain": [
       "[array([ True, False, False,  True, False, False, False, False, False,\n",
       "        False, False, False]),\n",
       " 2,\n",
       " array([False, False, False, False,  True, False, False, False, False,\n",
       "        False, False,  True]),\n",
       " 9,\n",
       " 7]"
      ]
     },
     "execution_count": 27,
     "metadata": {},
     "output_type": "execute_result"
    }
   ],
   "source": [
    "a = pd.Series([1,2,3,1,5,4,2,9,8,7,6,5])\n",
    "b = pd.Series([1,3,5,7,9])\n",
    "\n",
    "print(\"Positions of items of b in a:\")\n",
    "[pd.Index(a).get_loc(i) for i in b]"
   ]
  },
  {
   "cell_type": "markdown",
   "id": "cdc3796d",
   "metadata": {},
   "source": [
    "### 17. How to compute the mean squared error on a truth and predicted series?"
   ]
  },
  {
   "cell_type": "code",
   "execution_count": 6,
   "id": "c1aada27",
   "metadata": {},
   "outputs": [
    {
     "data": {
      "text/plain": [
       "0.4217816206589683"
      ]
     },
     "execution_count": 6,
     "metadata": {},
     "output_type": "execute_result"
    }
   ],
   "source": [
    "truth = pd.Series(range(10))\n",
    "pred = pd.Series(range(10) + np.random.random(10))\n",
    "\n",
    "np.mean((truth-pred)**2)"
   ]
  },
  {
   "cell_type": "markdown",
   "id": "922ab3f6",
   "metadata": {},
   "source": [
    "### 18. How to convert the first character of each element in a series to uppercase?"
   ]
  },
  {
   "cell_type": "code",
   "execution_count": 10,
   "id": "ad9cbb28",
   "metadata": {},
   "outputs": [
    {
     "data": {
      "text/plain": [
       "0      Sairam\n",
       "1    Brothers\n",
       "2     Welcome\n",
       "3          To\n",
       "4      Pandas\n",
       "dtype: object"
      ]
     },
     "execution_count": 10,
     "metadata": {},
     "output_type": "execute_result"
    }
   ],
   "source": [
    "a = pd.Series(['sairam','brothers','welcome','to','pandas'])\n",
    "\n",
    "a.map(lambda x: x.title())\n",
    "a.map(lambda x: x[0].upper() + x[1:])\n",
    "pd.Series([i.title() for i in a])"
   ]
  },
  {
   "cell_type": "markdown",
   "id": "e69dabf6",
   "metadata": {},
   "source": [
    "### 19. How to calculate the number of characters in each word in a series?"
   ]
  },
  {
   "cell_type": "code",
   "execution_count": 11,
   "id": "6e955d38",
   "metadata": {},
   "outputs": [
    {
     "data": {
      "text/plain": [
       "0    6\n",
       "1    6\n",
       "2    5\n",
       "dtype: int64"
      ]
     },
     "execution_count": 11,
     "metadata": {},
     "output_type": "execute_result"
    }
   ],
   "source": [
    "x = pd.Series(['python','pandas','numpy'])\n",
    "\n",
    "x.map(lambda x: len(x))"
   ]
  },
  {
   "cell_type": "markdown",
   "id": "e5a83039",
   "metadata": {},
   "source": [
    "### 20. How to compute difference of differences between consequtive numbers of a series?"
   ]
  },
  {
   "cell_type": "code",
   "execution_count": 12,
   "id": "2827ab67",
   "metadata": {},
   "outputs": [
    {
     "name": "stdout",
     "output_type": "stream",
     "text": [
      "[nan, 1.0, 1.0, 1.0, 1.0, 1.0, 1.0, 1.0, 1.0]\n",
      "[nan, nan, 0.0, 0.0, 0.0, 0.0, 0.0, 0.0, 0.0]\n"
     ]
    }
   ],
   "source": [
    "a = pd.Series([1,2,3,4,5,6,7,8,9])\n",
    "\n",
    "print(a.diff().tolist())\n",
    "print(a.diff().diff().tolist())"
   ]
  },
  {
   "cell_type": "markdown",
   "id": "3c875113",
   "metadata": {},
   "source": [
    "### 21. How to convert a series of date-strings to a timeseries?"
   ]
  },
  {
   "cell_type": "code",
   "execution_count": 23,
   "id": "6f4ca100",
   "metadata": {},
   "outputs": [
    {
     "data": {
      "text/plain": [
       "0   1978-01-06 00:00:00\n",
       "1   2012-01-02 00:00:00\n",
       "2   2012-03-03 00:00:00\n",
       "3   2013-04-04 00:00:00\n",
       "4   2014-05-15 00:00:00\n",
       "5   2015-06-06 12:20:00\n",
       "dtype: datetime64[ns]"
      ]
     },
     "execution_count": 23,
     "metadata": {},
     "output_type": "execute_result"
    }
   ],
   "source": [
    "dates = pd.Series(['06 Jan 1978', '20120102', '20120303', '2013/04/04', '2014-05-15', '2015-06-06T12:20'])\n",
    "from dateutil.parser import parse\n",
    "dates.map(lambda x: parse(x))"
   ]
  },
  {
   "cell_type": "markdown",
   "id": "c17bb75a",
   "metadata": {},
   "source": [
    "### 22. How to get the day of month, week number, day of year and day of week from a series of date strings?"
   ]
  },
  {
   "cell_type": "code",
   "execution_count": 33,
   "id": "5dd75c4e",
   "metadata": {},
   "outputs": [
    {
     "name": "stdout",
     "output_type": "stream",
     "text": [
      "Date:  [1, 2, 3, 4, 6]\n",
      "Day number of year:  [1, 33, 63, 94, 157]\n"
     ]
    }
   ],
   "source": [
    "dates = pd.Series(['01 Jan 2010', '02-02-2011', '20120303', '2013/04/04', '2015-06-06T12:20'])\n",
    "\n",
    "from dateutil.parser import parse\n",
    "temp = dates.map(lambda x: parse(x))\n",
    "\n",
    "print(\"Date: \", temp.dt.day.tolist())\n",
    "\n",
    "print(\"Day number of year: \", temp.dt.dayofyear.tolist())\n"
   ]
  },
  {
   "cell_type": "markdown",
   "id": "d95923f1",
   "metadata": {},
   "source": [
    "### 23. How to convert year-month string to dates corresponding to the 4th day of the month?"
   ]
  },
  {
   "cell_type": "code",
   "execution_count": 71,
   "id": "b24bb09e",
   "metadata": {},
   "outputs": [
    {
     "data": {
      "text/plain": [
       "['2020-01-04', '2021-02-04', '2022-03-04']"
      ]
     },
     "execution_count": 71,
     "metadata": {},
     "output_type": "execute_result"
    }
   ],
   "source": [
    "from dateutil.parser import parse\n",
    "\n",
    "ser = pd.Series(['Jan 2020', 'Feb 2021', 'Mar 2022'])\n",
    "\n",
    "\n",
    "ser_ts = ser.map(lambda x: parse(x))\n",
    "ser_datestr = ser_ts.dt.year.astype('str') + '-' + ser_ts.dt.month.astype('str') + '-' + '04'\n",
    "\n",
    "[parse(i).strftime('%Y-%m-%d') for i in ser_datestr]\n"
   ]
  },
  {
   "cell_type": "markdown",
   "id": "2674697f",
   "metadata": {},
   "source": [
    "### 24. How to filter words that contain atleast 2 vowels from a series?"
   ]
  },
  {
   "cell_type": "code",
   "execution_count": 72,
   "id": "66972d27",
   "metadata": {},
   "outputs": [
    {
     "data": {
      "text/plain": [
       "0    Muddenahalli\n",
       "1    Chikballapur\n",
       "2       Karnataka\n",
       "3       Bengaluru\n",
       "4           India\n",
       "dtype: object"
      ]
     },
     "execution_count": 72,
     "metadata": {},
     "output_type": "execute_result"
    }
   ],
   "source": [
    "from collections import Counter\n",
    "\n",
    "a = pd.Series(['Muddenahalli', 'Chikballapur', 'Karnataka', 'Bengaluru', 'India'])\n",
    "\n",
    "mask = a.map(lambda x: sum([Counter(x.lower()).get(i, 0) for i in list('aeiou')]) >= 2)\n",
    "a[mask]"
   ]
  },
  {
   "cell_type": "markdown",
   "id": "22b73b6f",
   "metadata": {},
   "source": [
    "### 26. How to get the mean of a series grouped by another series?"
   ]
  },
  {
   "cell_type": "code",
   "execution_count": 39,
   "id": "ad8559ed",
   "metadata": {},
   "outputs": [
    {
     "name": "stdout",
     "output_type": "stream",
     "text": [
      "['key', 'joy', 'joy', 'sam', 'key', 'ham', 'sam', 'key', 'ham', 'sam']\n",
      "[1.0, 12.0, 23.0, 34.0, 45.0, 56.0, 67.0, 78.0, 89.0, 100.0]\n"
     ]
    },
    {
     "data": {
      "text/plain": [
       "ham    72.500000\n",
       "joy    17.500000\n",
       "key    41.333333\n",
       "sam    67.000000\n",
       "dtype: float64"
      ]
     },
     "execution_count": 39,
     "metadata": {},
     "output_type": "execute_result"
    }
   ],
   "source": [
    "Students_names = pd.Series(np.random.choice(['joy', 'key', 'ham','sam'], 10))\n",
    "\n",
    "marks= pd.Series(np.linspace(1, 100, 10))\n",
    "\n",
    "print(Students_names.tolist())\n",
    "print(marks.tolist())\n",
    "\n",
    "marks.groupby(Students_names).mean()"
   ]
  },
  {
   "cell_type": "markdown",
   "id": "9fac7d17",
   "metadata": {},
   "source": [
    "### 27. How to compute the euclidean distance between two series?"
   ]
  },
  {
   "cell_type": "code",
   "execution_count": 40,
   "id": "8f83103d",
   "metadata": {},
   "outputs": [
    {
     "data": {
      "text/plain": [
       "31.622776601683793"
      ]
     },
     "execution_count": 40,
     "metadata": {},
     "output_type": "execute_result"
    }
   ],
   "source": [
    "p = pd.Series([1, 2, 3, 4, 5, 6, 7, 8, 9, 10])\n",
    "q = pd.Series([11,12,13,14,15,16,17,18,19,20])\n",
    "\n",
    "sum((p - q)**2)**.5\n"
   ]
  },
  {
   "cell_type": "markdown",
   "id": "8fea6557",
   "metadata": {},
   "source": [
    "### 28. How to find all the local maxima (or peaks) in a numeric series?"
   ]
  },
  {
   "cell_type": "code",
   "execution_count": 44,
   "id": "ae234c9a",
   "metadata": {},
   "outputs": [
    {
     "name": "stdout",
     "output_type": "stream",
     "text": [
      "0    3\n",
      "1    1\n",
      "2    3\n",
      "3    2\n",
      "4    2\n",
      "5    2\n",
      "6    3\n",
      "7    4\n",
      "8    1\n",
      "9    3\n",
      "dtype: int32\n"
     ]
    },
    {
     "data": {
      "text/plain": [
       "array([2, 7], dtype=int64)"
      ]
     },
     "execution_count": 44,
     "metadata": {},
     "output_type": "execute_result"
    }
   ],
   "source": [
    "w = pd.Series(np.random.randint(1, 5, 10))\n",
    "print(w)\n",
    "y = np.diff(np.sign(np.diff(w)))\n",
    "peak_locs = np.where(y == -2)[0] + 1\n",
    "peak_locs"
   ]
  },
  {
   "cell_type": "markdown",
   "id": "7f2d4f92",
   "metadata": {},
   "source": [
    "### 29. How to replace missing spaces in a string with the least frequent character?"
   ]
  },
  {
   "cell_type": "code",
   "execution_count": 49,
   "id": "c77a082c",
   "metadata": {},
   "outputs": [
    {
     "name": "stdout",
     "output_type": "stream",
     "text": [
      "     6\n",
      "s    4\n",
      "f    4\n",
      "e    4\n",
      "g    3\n",
      "d    2\n",
      "b    2\n",
      "r    2\n",
      "a    2\n",
      "w    2\n",
      "h    1\n",
      "i    1\n",
      "j    1\n",
      "dtype: int64\n"
     ]
    },
    {
     "data": {
      "text/plain": [
       "'sddjsfsjbgfjgferjhejsgaeirjfbajwew'"
      ]
     },
     "execution_count": 49,
     "metadata": {},
     "output_type": "execute_result"
    }
   ],
   "source": [
    "a = pd.Series(list('sdd sfs bgf gfer he sgaeir fbajwew'))\n",
    "\n",
    "frequency = a.value_counts()\n",
    "print(frequency)\n",
    "\n",
    "least_freq = frequency.dropna().index[-1]\n",
    "\"\".join(a.replace(' ', least_freq))"
   ]
  },
  {
   "cell_type": "markdown",
   "id": "d047d9b1",
   "metadata": {},
   "source": [
    "### 32. How to compute the autocorrelations of a numeric series?"
   ]
  },
  {
   "cell_type": "code",
   "execution_count": 51,
   "id": "2f667061",
   "metadata": {},
   "outputs": [
    {
     "name": "stdout",
     "output_type": "stream",
     "text": [
      "[0.38, 0.15, 0.42, 0.26, 0.56, 0.08, -0.86, 1.0]\n",
      "Lag having highest correlation:  8\n"
     ]
    }
   ],
   "source": [
    "a = pd.Series(np.arange(10) + np.random.normal(1, 5, 10))\n",
    "\n",
    "autocorrelations = [a.autocorr(i).round(2) for i in range(9)]\n",
    "print(autocorrelations[1:])\n",
    "print('Lag having highest correlation: ', np.argmax(np.abs(autocorrelations[1:]))+1)"
   ]
  },
  {
   "cell_type": "markdown",
   "id": "4d6427b7",
   "metadata": {},
   "source": [
    "### 33. How to import only every nth row from a csv file to create a dataframe?"
   ]
  },
  {
   "cell_type": "code",
   "execution_count": 9,
   "id": "a91b68ec",
   "metadata": {},
   "outputs": [
    {
     "data": {
      "text/html": [
       "<div>\n",
       "<style scoped>\n",
       "    .dataframe tbody tr th:only-of-type {\n",
       "        vertical-align: middle;\n",
       "    }\n",
       "\n",
       "    .dataframe tbody tr th {\n",
       "        vertical-align: top;\n",
       "    }\n",
       "\n",
       "    .dataframe thead th {\n",
       "        text-align: right;\n",
       "    }\n",
       "</style>\n",
       "<table border=\"1\" class=\"dataframe\">\n",
       "  <thead>\n",
       "    <tr style=\"text-align: right;\">\n",
       "      <th></th>\n",
       "      <th>meal_id</th>\n",
       "      <th>category</th>\n",
       "      <th>cuisine</th>\n",
       "    </tr>\n",
       "  </thead>\n",
       "  <tbody>\n",
       "    <tr>\n",
       "      <th>0</th>\n",
       "      <td>1885</td>\n",
       "      <td>Beverages</td>\n",
       "      <td>Thai</td>\n",
       "    </tr>\n",
       "    <tr>\n",
       "      <th>50</th>\n",
       "      <td>1445</td>\n",
       "      <td>Seafood</td>\n",
       "      <td>Continental</td>\n",
       "    </tr>\n",
       "  </tbody>\n",
       "</table>\n",
       "</div>"
      ],
      "text/plain": [
       "   meal_id   category      cuisine\n",
       "0     1885  Beverages         Thai\n",
       "50    1445    Seafood  Continental"
      ]
     },
     "execution_count": 9,
     "metadata": {},
     "output_type": "execute_result"
    }
   ],
   "source": [
    "df = pd.read_csv('meal_info.csv', chunksize=50)\n",
    "df2 = pd.concat([chunk.iloc[0] for chunk in df], axis=1)\n",
    "df2 = df2.transpose()\n",
    "df2"
   ]
  },
  {
   "cell_type": "markdown",
   "id": "14c1e3b8",
   "metadata": {},
   "source": [
    "### 34. How to change column values when importing csv to a dataframe?"
   ]
  },
  {
   "cell_type": "code",
   "execution_count": 15,
   "id": "f797d536",
   "metadata": {},
   "outputs": [
    {
     "data": {
      "text/html": [
       "<div>\n",
       "<style scoped>\n",
       "    .dataframe tbody tr th:only-of-type {\n",
       "        vertical-align: middle;\n",
       "    }\n",
       "\n",
       "    .dataframe tbody tr th {\n",
       "        vertical-align: top;\n",
       "    }\n",
       "\n",
       "    .dataframe thead th {\n",
       "        text-align: right;\n",
       "    }\n",
       "</style>\n",
       "<table border=\"1\" class=\"dataframe\">\n",
       "  <thead>\n",
       "    <tr style=\"text-align: right;\">\n",
       "      <th></th>\n",
       "      <th>center_id</th>\n",
       "      <th>city_code</th>\n",
       "      <th>region_code</th>\n",
       "      <th>center_type</th>\n",
       "      <th>op_area</th>\n",
       "    </tr>\n",
       "  </thead>\n",
       "  <tbody>\n",
       "    <tr>\n",
       "      <th>0</th>\n",
       "      <td>11</td>\n",
       "      <td>679</td>\n",
       "      <td>South</td>\n",
       "      <td>TYPE_A</td>\n",
       "      <td>3.7</td>\n",
       "    </tr>\n",
       "    <tr>\n",
       "      <th>1</th>\n",
       "      <td>13</td>\n",
       "      <td>590</td>\n",
       "      <td>South</td>\n",
       "      <td>TYPE_B</td>\n",
       "      <td>6.7</td>\n",
       "    </tr>\n",
       "    <tr>\n",
       "      <th>2</th>\n",
       "      <td>124</td>\n",
       "      <td>590</td>\n",
       "      <td>South</td>\n",
       "      <td>TYPE_C</td>\n",
       "      <td>4.0</td>\n",
       "    </tr>\n",
       "    <tr>\n",
       "      <th>3</th>\n",
       "      <td>66</td>\n",
       "      <td>648</td>\n",
       "      <td>North</td>\n",
       "      <td>TYPE_A</td>\n",
       "      <td>4.1</td>\n",
       "    </tr>\n",
       "    <tr>\n",
       "      <th>4</th>\n",
       "      <td>94</td>\n",
       "      <td>632</td>\n",
       "      <td>North</td>\n",
       "      <td>TYPE_C</td>\n",
       "      <td>3.6</td>\n",
       "    </tr>\n",
       "    <tr>\n",
       "      <th>...</th>\n",
       "      <td>...</td>\n",
       "      <td>...</td>\n",
       "      <td>...</td>\n",
       "      <td>...</td>\n",
       "      <td>...</td>\n",
       "    </tr>\n",
       "    <tr>\n",
       "      <th>72</th>\n",
       "      <td>53</td>\n",
       "      <td>590</td>\n",
       "      <td>South</td>\n",
       "      <td>TYPE_A</td>\n",
       "      <td>3.8</td>\n",
       "    </tr>\n",
       "    <tr>\n",
       "      <th>73</th>\n",
       "      <td>30</td>\n",
       "      <td>604</td>\n",
       "      <td>South</td>\n",
       "      <td>TYPE_A</td>\n",
       "      <td>3.5</td>\n",
       "    </tr>\n",
       "    <tr>\n",
       "      <th>74</th>\n",
       "      <td>76</td>\n",
       "      <td>614</td>\n",
       "      <td>South</td>\n",
       "      <td>TYPE_A</td>\n",
       "      <td>3.0</td>\n",
       "    </tr>\n",
       "    <tr>\n",
       "      <th>75</th>\n",
       "      <td>68</td>\n",
       "      <td>676</td>\n",
       "      <td>North</td>\n",
       "      <td>TYPE_B</td>\n",
       "      <td>4.1</td>\n",
       "    </tr>\n",
       "    <tr>\n",
       "      <th>76</th>\n",
       "      <td>51</td>\n",
       "      <td>638</td>\n",
       "      <td>South</td>\n",
       "      <td>TYPE_A</td>\n",
       "      <td>7.0</td>\n",
       "    </tr>\n",
       "  </tbody>\n",
       "</table>\n",
       "<p>77 rows × 5 columns</p>\n",
       "</div>"
      ],
      "text/plain": [
       "    center_id  city_code region_code center_type  op_area\n",
       "0          11        679       South      TYPE_A      3.7\n",
       "1          13        590       South      TYPE_B      6.7\n",
       "2         124        590       South      TYPE_C      4.0\n",
       "3          66        648       North      TYPE_A      4.1\n",
       "4          94        632       North      TYPE_C      3.6\n",
       "..        ...        ...         ...         ...      ...\n",
       "72         53        590       South      TYPE_A      3.8\n",
       "73         30        604       South      TYPE_A      3.5\n",
       "74         76        614       South      TYPE_A      3.0\n",
       "75         68        676       North      TYPE_B      4.1\n",
       "76         51        638       South      TYPE_A      7.0\n",
       "\n",
       "[77 rows x 5 columns]"
      ]
     },
     "execution_count": 15,
     "metadata": {},
     "output_type": "execute_result"
    }
   ],
   "source": [
    "df = pd.read_csv('fulfilment_center_info.csv',converters={'region_code': lambda x: 'South' if float(x) > 50 else 'North'})\n",
    "df"
   ]
  },
  {
   "cell_type": "markdown",
   "id": "ea5440e0",
   "metadata": {},
   "source": [
    "### 36. How to import only specified columns from a csv file?"
   ]
  },
  {
   "cell_type": "code",
   "execution_count": 16,
   "id": "ac92206f",
   "metadata": {},
   "outputs": [
    {
     "name": "stdout",
     "output_type": "stream",
     "text": [
      "   city_code  op_area\n",
      "0        679      3.7\n",
      "1        590      6.7\n",
      "2        590      4.0\n",
      "3        648      4.1\n",
      "4        632      3.6\n"
     ]
    }
   ],
   "source": [
    "df = pd.read_csv('fulfilment_center_info.csv', usecols=['city_code', 'op_area'])\n",
    "print(df.head())"
   ]
  },
  {
   "cell_type": "markdown",
   "id": "99390822",
   "metadata": {},
   "source": [
    "### 37. How to get the nrows, ncolumns, datatype, summary stats of each column of a dataframe? Also get the array and list equivalent."
   ]
  },
  {
   "cell_type": "code",
   "execution_count": 26,
   "id": "a5f92b88",
   "metadata": {},
   "outputs": [
    {
     "name": "stdout",
     "output_type": "stream",
     "text": [
      "number of rows and colums in the data : (77, 5)\n",
      "\n",
      "datatypes of various attributes :\n",
      "center_id        int64\n",
      "city_code        int64\n",
      "region_code      int64\n",
      "center_type     object\n",
      "op_area        float64\n",
      "dtype: object\n",
      "\n",
      " the value counts of each attribute:\n",
      "int64      3\n",
      "object     1\n",
      "float64    1\n",
      "dtype: int64\n",
      "\n",
      "the overall statistics of the data is :\n",
      "        center_id   city_code  region_code    op_area\n",
      "count   77.000000   77.000000    77.000000  77.000000\n",
      "mean    83.142857  600.662338    56.493506   3.985714\n",
      "std     46.090219   66.720274    18.126473   1.106406\n",
      "min     10.000000  456.000000    23.000000   0.900000\n",
      "25%     50.000000  553.000000    34.000000   3.500000\n",
      "50%     77.000000  596.000000    56.000000   3.900000\n",
      "75%    110.000000  651.000000    77.000000   4.400000\n",
      "max    186.000000  713.000000    93.000000   7.000000\n",
      "[[11 679 56 'TYPE_A' 3.7]\n",
      " [13 590 56 'TYPE_B' 6.7]\n",
      " [124 590 56 'TYPE_C' 4.0]\n",
      " [66 648 34 'TYPE_A' 4.1]\n",
      " [94 632 34 'TYPE_C' 3.6]\n",
      " [64 553 77 'TYPE_A' 4.4]\n",
      " [129 593 77 'TYPE_A' 3.9]\n",
      " [139 693 34 'TYPE_C' 2.8]\n",
      " [88 526 34 'TYPE_A' 4.1]\n",
      " [143 562 77 'TYPE_B' 3.8]\n",
      " [101 699 85 'TYPE_C' 2.8]\n",
      " [86 699 85 'TYPE_C' 4.0]\n",
      " [32 526 34 'TYPE_A' 3.8]\n",
      " [149 478 77 'TYPE_A' 2.4]\n",
      " [152 576 34 'TYPE_B' 4.0]\n",
      " [92 526 34 'TYPE_C' 2.9]\n",
      " [27 713 85 'TYPE_A' 4.5]\n",
      " [14 654 56 'TYPE_C' 2.7]\n",
      " [26 515 77 'TYPE_C' 3.0]\n",
      " [104 647 56 'TYPE_A' 4.5]\n",
      " [77 676 34 'TYPE_A' 3.8]\n",
      " [23 698 23 'TYPE_A' 3.4]\n",
      " [97 628 77 'TYPE_A' 4.6]\n",
      " [146 526 34 'TYPE_B' 5.0]\n",
      " [113 680 77 'TYPE_C' 4.0]\n",
      " [145 620 77 'TYPE_A' 3.9]\n",
      " [80 604 56 'TYPE_C' 5.1]\n",
      " [55 647 56 'TYPE_C' 2.0]\n",
      " [186 649 34 'TYPE_A' 3.4]\n",
      " [99 596 71 'TYPE_A' 4.5]\n",
      " [91 590 56 'TYPE_C' 0.9]\n",
      " [20 522 56 'TYPE_A' 4.0]\n",
      " [106 675 34 'TYPE_A' 4.0]\n",
      " [81 526 34 'TYPE_A' 4.0]\n",
      " [73 576 34 'TYPE_A' 4.0]\n",
      " [29 526 34 'TYPE_C' 4.0]\n",
      " [43 590 56 'TYPE_A' 5.1]\n",
      " [102 593 77 'TYPE_A' 2.8]\n",
      " [61 473 77 'TYPE_A' 4.5]\n",
      " [50 556 77 'TYPE_A' 4.8]\n",
      " [83 659 77 'TYPE_A' 5.3]\n",
      " [57 541 77 'TYPE_C' 2.8]\n",
      " [126 577 56 'TYPE_A' 2.7]\n",
      " [177 683 56 'TYPE_A' 3.4]\n",
      " [67 638 56 'TYPE_B' 7.0]\n",
      " [174 700 56 'TYPE_A' 7.0]\n",
      " [59 456 56 'TYPE_A' 4.2]\n",
      " [58 695 77 'TYPE_C' 3.8]\n",
      " [65 602 34 'TYPE_A' 4.8]\n",
      " [39 526 34 'TYPE_C' 3.8]\n",
      " [132 522 56 'TYPE_A' 3.9]\n",
      " [89 703 56 'TYPE_A' 4.8]\n",
      " [162 526 34 'TYPE_C' 2.0]\n",
      " [75 651 77 'TYPE_B' 4.7]\n",
      " [72 638 56 'TYPE_C' 3.9]\n",
      " [41 590 56 'TYPE_C' 1.9]\n",
      " [10 590 56 'TYPE_B' 6.3]\n",
      " [110 485 77 'TYPE_A' 3.8]\n",
      " [52 685 56 'TYPE_B' 5.6]\n",
      " [93 461 34 'TYPE_A' 3.9]\n",
      " [74 702 35 'TYPE_A' 2.8]\n",
      " [34 615 34 'TYPE_B' 4.2]\n",
      " [137 590 56 'TYPE_A' 4.4]\n",
      " [153 590 56 'TYPE_A' 3.9]\n",
      " [24 614 85 'TYPE_B' 3.6]\n",
      " [109 599 56 'TYPE_A' 3.6]\n",
      " [108 579 56 'TYPE_B' 4.4]\n",
      " [36 517 56 'TYPE_B' 4.4]\n",
      " [157 609 93 'TYPE_A' 4.1]\n",
      " [17 517 56 'TYPE_A' 3.2]\n",
      " [161 658 34 'TYPE_B' 3.9]\n",
      " [42 561 77 'TYPE_B' 3.9]\n",
      " [53 590 56 'TYPE_A' 3.8]\n",
      " [30 604 56 'TYPE_A' 3.5]\n",
      " [76 614 85 'TYPE_A' 3.0]\n",
      " [68 676 34 'TYPE_B' 4.1]\n",
      " [51 638 56 'TYPE_A' 7.0]]\n",
      "[[11, 679, 56, 'TYPE_A', 3.7], [13, 590, 56, 'TYPE_B', 6.7], [124, 590, 56, 'TYPE_C', 4.0], [66, 648, 34, 'TYPE_A', 4.1], [94, 632, 34, 'TYPE_C', 3.6], [64, 553, 77, 'TYPE_A', 4.4], [129, 593, 77, 'TYPE_A', 3.9], [139, 693, 34, 'TYPE_C', 2.8], [88, 526, 34, 'TYPE_A', 4.1], [143, 562, 77, 'TYPE_B', 3.8], [101, 699, 85, 'TYPE_C', 2.8], [86, 699, 85, 'TYPE_C', 4.0], [32, 526, 34, 'TYPE_A', 3.8], [149, 478, 77, 'TYPE_A', 2.4], [152, 576, 34, 'TYPE_B', 4.0], [92, 526, 34, 'TYPE_C', 2.9], [27, 713, 85, 'TYPE_A', 4.5], [14, 654, 56, 'TYPE_C', 2.7], [26, 515, 77, 'TYPE_C', 3.0], [104, 647, 56, 'TYPE_A', 4.5], [77, 676, 34, 'TYPE_A', 3.8], [23, 698, 23, 'TYPE_A', 3.4], [97, 628, 77, 'TYPE_A', 4.6], [146, 526, 34, 'TYPE_B', 5.0], [113, 680, 77, 'TYPE_C', 4.0], [145, 620, 77, 'TYPE_A', 3.9], [80, 604, 56, 'TYPE_C', 5.1], [55, 647, 56, 'TYPE_C', 2.0], [186, 649, 34, 'TYPE_A', 3.4], [99, 596, 71, 'TYPE_A', 4.5], [91, 590, 56, 'TYPE_C', 0.9], [20, 522, 56, 'TYPE_A', 4.0], [106, 675, 34, 'TYPE_A', 4.0], [81, 526, 34, 'TYPE_A', 4.0], [73, 576, 34, 'TYPE_A', 4.0], [29, 526, 34, 'TYPE_C', 4.0], [43, 590, 56, 'TYPE_A', 5.1], [102, 593, 77, 'TYPE_A', 2.8], [61, 473, 77, 'TYPE_A', 4.5], [50, 556, 77, 'TYPE_A', 4.8], [83, 659, 77, 'TYPE_A', 5.3], [57, 541, 77, 'TYPE_C', 2.8], [126, 577, 56, 'TYPE_A', 2.7], [177, 683, 56, 'TYPE_A', 3.4], [67, 638, 56, 'TYPE_B', 7.0], [174, 700, 56, 'TYPE_A', 7.0], [59, 456, 56, 'TYPE_A', 4.2], [58, 695, 77, 'TYPE_C', 3.8], [65, 602, 34, 'TYPE_A', 4.8], [39, 526, 34, 'TYPE_C', 3.8], [132, 522, 56, 'TYPE_A', 3.9], [89, 703, 56, 'TYPE_A', 4.8], [162, 526, 34, 'TYPE_C', 2.0], [75, 651, 77, 'TYPE_B', 4.7], [72, 638, 56, 'TYPE_C', 3.9], [41, 590, 56, 'TYPE_C', 1.9], [10, 590, 56, 'TYPE_B', 6.3], [110, 485, 77, 'TYPE_A', 3.8], [52, 685, 56, 'TYPE_B', 5.6], [93, 461, 34, 'TYPE_A', 3.9], [74, 702, 35, 'TYPE_A', 2.8], [34, 615, 34, 'TYPE_B', 4.2], [137, 590, 56, 'TYPE_A', 4.4], [153, 590, 56, 'TYPE_A', 3.9], [24, 614, 85, 'TYPE_B', 3.6], [109, 599, 56, 'TYPE_A', 3.6], [108, 579, 56, 'TYPE_B', 4.4], [36, 517, 56, 'TYPE_B', 4.4], [157, 609, 93, 'TYPE_A', 4.1], [17, 517, 56, 'TYPE_A', 3.2], [161, 658, 34, 'TYPE_B', 3.9], [42, 561, 77, 'TYPE_B', 3.9], [53, 590, 56, 'TYPE_A', 3.8], [30, 604, 56, 'TYPE_A', 3.5], [76, 614, 85, 'TYPE_A', 3.0], [68, 676, 34, 'TYPE_B', 4.1], [51, 638, 56, 'TYPE_A', 7.0]]\n"
     ]
    }
   ],
   "source": [
    "df = pd.read_csv('fulfilment_center_info.csv')\n",
    "\n",
    "print('number of rows and colums in the data :',df.shape)   # gives the number of columns and rows\n",
    "\n",
    "print('\\ndatatypes of various attributes :')\n",
    "print(df.dtypes)                           # gives the datatypes\n",
    "\n",
    "print('\\n the value counts of each attribute:')\n",
    "print(df.dtypes.value_counts())            # Specifies how many columns are there under each datatype\n",
    "\n",
    "print('\\nthe overall statistics of the data is :')\n",
    "data_statistics = df.describe()            # summary statistics\n",
    "print(data_statistics)\n",
    "\n",
    "data_array = df.values                     # numpy array\n",
    "print(data_array)\n",
    "\n",
    "data_list = df.values.tolist()             # list\n",
    "print(data_list)"
   ]
  },
  {
   "cell_type": "markdown",
   "id": "8ad01779",
   "metadata": {},
   "source": [
    "### 39. How to rename a specific columns in a dataframe?"
   ]
  },
  {
   "cell_type": "code",
   "execution_count": 28,
   "id": "7bc9b445",
   "metadata": {},
   "outputs": [
    {
     "name": "stdout",
     "output_type": "stream",
     "text": [
      "Index(['meal_id', 'category', 'cuisine'], dtype='object')\n",
      "Index(['Food_id', 'category', 'cuisine'], dtype='object')\n"
     ]
    }
   ],
   "source": [
    "df = pd.read_csv('meal_info.csv')\n",
    "print(df.columns)\n",
    "df=df.rename(columns = {'meal_id':'Food_id'})\n",
    "print(df.columns)"
   ]
  },
  {
   "cell_type": "markdown",
   "id": "e76305b3",
   "metadata": {},
   "source": [
    "### 40. How to check if a dataframe has any missing values?"
   ]
  },
  {
   "cell_type": "code",
   "execution_count": 29,
   "id": "7acd9302",
   "metadata": {},
   "outputs": [
    {
     "data": {
      "text/plain": [
       "False"
      ]
     },
     "execution_count": 29,
     "metadata": {},
     "output_type": "execute_result"
    }
   ],
   "source": [
    "df = pd.read_csv('meal_info.csv')\n",
    "df.isnull().values.any()"
   ]
  },
  {
   "cell_type": "markdown",
   "id": "77363fe7",
   "metadata": {},
   "source": [
    "### 41. How to count the number of missing values in each column?"
   ]
  },
  {
   "cell_type": "code",
   "execution_count": 30,
   "id": "b5cb183c",
   "metadata": {},
   "outputs": [
    {
     "data": {
      "text/plain": [
       "0"
      ]
     },
     "execution_count": 30,
     "metadata": {},
     "output_type": "execute_result"
    }
   ],
   "source": [
    "df = pd.read_csv('meal_info.csv')\n",
    "missing_col = df.apply(lambda x: x.isnull().sum())\n",
    "missing_col.argmax()"
   ]
  },
  {
   "cell_type": "markdown",
   "id": "3cf3ead0",
   "metadata": {},
   "source": [
    "### 44. How to select a specific column from a dataframe as a dataframe instead of a series?"
   ]
  },
  {
   "cell_type": "code",
   "execution_count": 45,
   "id": "154b4041",
   "metadata": {},
   "outputs": [
    {
     "data": {
      "text/html": [
       "<div>\n",
       "<style scoped>\n",
       "    .dataframe tbody tr th:only-of-type {\n",
       "        vertical-align: middle;\n",
       "    }\n",
       "\n",
       "    .dataframe tbody tr th {\n",
       "        vertical-align: top;\n",
       "    }\n",
       "\n",
       "    .dataframe thead th {\n",
       "        text-align: right;\n",
       "    }\n",
       "</style>\n",
       "<table border=\"1\" class=\"dataframe\">\n",
       "  <thead>\n",
       "    <tr style=\"text-align: right;\">\n",
       "      <th></th>\n",
       "      <th>s</th>\n",
       "      <th>a</th>\n",
       "      <th>i</th>\n",
       "      <th>r</th>\n",
       "      <th>a</th>\n",
       "      <th>m</th>\n",
       "    </tr>\n",
       "  </thead>\n",
       "  <tbody>\n",
       "    <tr>\n",
       "      <th>0</th>\n",
       "      <td>0</td>\n",
       "      <td>1</td>\n",
       "      <td>2</td>\n",
       "      <td>3</td>\n",
       "      <td>4</td>\n",
       "      <td>5</td>\n",
       "    </tr>\n",
       "  </tbody>\n",
       "</table>\n",
       "</div>"
      ],
      "text/plain": [
       "   s  a  i  r  a  m\n",
       "0  0  1  2  3  4  5"
      ]
     },
     "execution_count": 45,
     "metadata": {},
     "output_type": "execute_result"
    }
   ],
   "source": [
    "df = pd.DataFrame(np.arange(6).reshape(-1, 6), columns=list('sairam'))\n",
    "\n",
    "type(df[['s']])\n",
    "type(df.loc[:, ['s']])\n",
    "type(df.iloc[:, [0]])\n",
    "pd.core.series.Series\n",
    "df"
   ]
  },
  {
   "cell_type": "markdown",
   "id": "ab28022e",
   "metadata": {},
   "source": [
    "### 46. How to set the number of rows and columns displayed in the output?"
   ]
  },
  {
   "cell_type": "code",
   "execution_count": 52,
   "id": "94c68928",
   "metadata": {},
   "outputs": [
    {
     "data": {
      "text/html": [
       "<div>\n",
       "<style scoped>\n",
       "    .dataframe tbody tr th:only-of-type {\n",
       "        vertical-align: middle;\n",
       "    }\n",
       "\n",
       "    .dataframe tbody tr th {\n",
       "        vertical-align: top;\n",
       "    }\n",
       "\n",
       "    .dataframe thead th {\n",
       "        text-align: right;\n",
       "    }\n",
       "</style>\n",
       "<table border=\"1\" class=\"dataframe\">\n",
       "  <thead>\n",
       "    <tr style=\"text-align: right;\">\n",
       "      <th></th>\n",
       "      <th>id</th>\n",
       "      <th>week</th>\n",
       "      <th>...</th>\n",
       "      <th>homepage_featured</th>\n",
       "      <th>num_orders</th>\n",
       "    </tr>\n",
       "  </thead>\n",
       "  <tbody>\n",
       "    <tr>\n",
       "      <th>0</th>\n",
       "      <td>1379560</td>\n",
       "      <td>1</td>\n",
       "      <td>...</td>\n",
       "      <td>0</td>\n",
       "      <td>177</td>\n",
       "    </tr>\n",
       "    <tr>\n",
       "      <th>1</th>\n",
       "      <td>1466964</td>\n",
       "      <td>1</td>\n",
       "      <td>...</td>\n",
       "      <td>0</td>\n",
       "      <td>270</td>\n",
       "    </tr>\n",
       "    <tr>\n",
       "      <th>...</th>\n",
       "      <td>...</td>\n",
       "      <td>...</td>\n",
       "      <td>...</td>\n",
       "      <td>...</td>\n",
       "      <td>...</td>\n",
       "    </tr>\n",
       "    <tr>\n",
       "      <th>456546</th>\n",
       "      <td>1147725</td>\n",
       "      <td>145</td>\n",
       "      <td>...</td>\n",
       "      <td>0</td>\n",
       "      <td>729</td>\n",
       "    </tr>\n",
       "    <tr>\n",
       "      <th>456547</th>\n",
       "      <td>1361984</td>\n",
       "      <td>145</td>\n",
       "      <td>...</td>\n",
       "      <td>0</td>\n",
       "      <td>162</td>\n",
       "    </tr>\n",
       "  </tbody>\n",
       "</table>\n",
       "<p>456548 rows × 9 columns</p>\n",
       "</div>"
      ],
      "text/plain": [
       "             id  week  ...  homepage_featured  num_orders\n",
       "0       1379560     1  ...                  0         177\n",
       "1       1466964     1  ...                  0         270\n",
       "...         ...   ...  ...                ...         ...\n",
       "456546  1147725   145  ...                  0         729\n",
       "456547  1361984   145  ...                  0         162\n",
       "\n",
       "[456548 rows x 9 columns]"
      ]
     },
     "execution_count": 52,
     "metadata": {},
     "output_type": "execute_result"
    }
   ],
   "source": [
    "df = pd.read_csv('train.csv')\n",
    "\n",
    "pd.set_option('display.max_columns', 5)\n",
    "pd.set_option('display.max_rows', 5)\n",
    "\n",
    "df"
   ]
  },
  {
   "cell_type": "markdown",
   "id": "a1ddcd1c",
   "metadata": {},
   "source": [
    "### 48. How to format all the values in a dataframe as percentages?"
   ]
  },
  {
   "cell_type": "code",
   "execution_count": 53,
   "id": "37492145",
   "metadata": {},
   "outputs": [
    {
     "data": {
      "text/html": [
       "<style type=\"text/css\">\n",
       "</style>\n",
       "<table id=\"T_313d1\">\n",
       "  <thead>\n",
       "    <tr>\n",
       "      <th class=\"blank level0\" >&nbsp;</th>\n",
       "      <th id=\"T_313d1_level0_col0\" class=\"col_heading level0 col0\" >random_percentages</th>\n",
       "    </tr>\n",
       "  </thead>\n",
       "  <tbody>\n",
       "    <tr>\n",
       "      <th id=\"T_313d1_level0_row0\" class=\"row_heading level0 row0\" >0</th>\n",
       "      <td id=\"T_313d1_row0_col0\" class=\"data row0 col0\" >64.09950%</td>\n",
       "    </tr>\n",
       "    <tr>\n",
       "      <th id=\"T_313d1_level0_row1\" class=\"row_heading level0 row1\" >1</th>\n",
       "      <td id=\"T_313d1_row1_col0\" class=\"data row1 col0\" >9.32145%</td>\n",
       "    </tr>\n",
       "    <tr>\n",
       "      <th id=\"T_313d1_level0_row2\" class=\"row_heading level0 row2\" >2</th>\n",
       "      <td id=\"T_313d1_row2_col0\" class=\"data row2 col0\" >98.57345%</td>\n",
       "    </tr>\n",
       "    <tr>\n",
       "      <th id=\"T_313d1_level0_row3\" class=\"row_heading level0 row3\" >3</th>\n",
       "      <td id=\"T_313d1_row3_col0\" class=\"data row3 col0\" >85.56840%</td>\n",
       "    </tr>\n",
       "    <tr>\n",
       "      <th id=\"T_313d1_level0_row4\" class=\"row_heading level0 row4\" >4</th>\n",
       "      <td id=\"T_313d1_row4_col0\" class=\"data row4 col0\" >46.04347%</td>\n",
       "    </tr>\n",
       "    <tr>\n",
       "      <th id=\"T_313d1_level0_row5\" class=\"row_heading level0 row5\" >5</th>\n",
       "      <td id=\"T_313d1_row5_col0\" class=\"data row5 col0\" >39.23331%</td>\n",
       "    </tr>\n",
       "    <tr>\n",
       "      <th id=\"T_313d1_level0_row6\" class=\"row_heading level0 row6\" >6</th>\n",
       "      <td id=\"T_313d1_row6_col0\" class=\"data row6 col0\" >64.47015%</td>\n",
       "    </tr>\n",
       "    <tr>\n",
       "      <th id=\"T_313d1_level0_row7\" class=\"row_heading level0 row7\" >7</th>\n",
       "      <td id=\"T_313d1_row7_col0\" class=\"data row7 col0\" >95.76958%</td>\n",
       "    </tr>\n",
       "    <tr>\n",
       "      <th id=\"T_313d1_level0_row8\" class=\"row_heading level0 row8\" >8</th>\n",
       "      <td id=\"T_313d1_row8_col0\" class=\"data row8 col0\" >61.52211%</td>\n",
       "    </tr>\n",
       "    <tr>\n",
       "      <th id=\"T_313d1_level0_row9\" class=\"row_heading level0 row9\" >9</th>\n",
       "      <td id=\"T_313d1_row9_col0\" class=\"data row9 col0\" >47.66877%</td>\n",
       "    </tr>\n",
       "  </tbody>\n",
       "</table>\n"
      ],
      "text/plain": [
       "<pandas.io.formats.style.Styler at 0x26e8374c4f0>"
      ]
     },
     "execution_count": 53,
     "metadata": {},
     "output_type": "execute_result"
    }
   ],
   "source": [
    "df = pd.DataFrame(np.random.random(10), columns=['random_percentages'])\n",
    "\n",
    "out = df.style.format({'random_percentages': '{0:.5%}'.format,})\n",
    "\n",
    "out"
   ]
  },
  {
   "cell_type": "markdown",
   "id": "3b327fcc",
   "metadata": {},
   "source": [
    "### 49. How to filter every nth row in a dataframe?"
   ]
  },
  {
   "cell_type": "code",
   "execution_count": 68,
   "id": "fa6dc84e",
   "metadata": {},
   "outputs": [
    {
     "name": "stdout",
     "output_type": "stream",
     "text": [
      "    meal_id   category      cuisine\n",
      "0      1885  Beverages         Thai\n",
      "3      1248  Beverages       Indian\n",
      "..      ...        ...          ...\n",
      "45     1571       Fish  Continental\n",
      "48     2444    Seafood  Continental\n",
      "\n",
      "[17 rows x 3 columns]\n"
     ]
    }
   ],
   "source": [
    "df = pd.read_csv('meal_info.csv')\n",
    "print(df.iloc[::3, :][['meal_id', 'category', 'cuisine']])"
   ]
  },
  {
   "cell_type": "markdown",
   "id": "244c4dc0",
   "metadata": {},
   "source": [
    "### 51. How to get the row number of the nth largest value in a column?"
   ]
  },
  {
   "cell_type": "code",
   "execution_count": 80,
   "id": "5de9de28",
   "metadata": {},
   "outputs": [
    {
     "data": {
      "text/plain": [
       "1"
      ]
     },
     "execution_count": 80,
     "metadata": {},
     "output_type": "execute_result"
    }
   ],
   "source": [
    "df = pd.DataFrame(np.random.randint(1, 30, 30).reshape(10,-1), columns=list('abc'))\n",
    "\n",
    "n = 9\n",
    "df['a'].argsort()[::-1][n]"
   ]
  },
  {
   "cell_type": "markdown",
   "id": "b5a57799",
   "metadata": {},
   "source": [
    "### 52. How to find the position of the nth largest value greater than a given value?"
   ]
  },
  {
   "cell_type": "code",
   "execution_count": 93,
   "id": "7b2d6bdb",
   "metadata": {},
   "outputs": [
    {
     "name": "stdout",
     "output_type": "stream",
     "text": [
      "a:  [16, 35, 43, 2, 17, 9, 6, 18, 34] mean:  20\n"
     ]
    },
    {
     "ename": "ValueError",
     "evalue": "Length of values (1) does not match length of index (9)",
     "output_type": "error",
     "traceback": [
      "\u001b[1;31m---------------------------------------------------------------------------\u001b[0m",
      "\u001b[1;31mValueError\u001b[0m                                Traceback (most recent call last)",
      "Input \u001b[1;32mIn [93]\u001b[0m, in \u001b[0;36m<cell line: 4>\u001b[1;34m()\u001b[0m\n\u001b[0;32m      1\u001b[0m a \u001b[38;5;241m=\u001b[39m pd\u001b[38;5;241m.\u001b[39mSeries(np\u001b[38;5;241m.\u001b[39mrandom\u001b[38;5;241m.\u001b[39mrandint(\u001b[38;5;241m1\u001b[39m, \u001b[38;5;241m50\u001b[39m, \u001b[38;5;241m9\u001b[39m))\n\u001b[0;32m      3\u001b[0m \u001b[38;5;28mprint\u001b[39m(\u001b[38;5;124m'\u001b[39m\u001b[38;5;124ma: \u001b[39m\u001b[38;5;124m'\u001b[39m, a\u001b[38;5;241m.\u001b[39mtolist(), \u001b[38;5;124m'\u001b[39m\u001b[38;5;124mmean: \u001b[39m\u001b[38;5;124m'\u001b[39m, \u001b[38;5;28mround\u001b[39m(a\u001b[38;5;241m.\u001b[39mmean()))\n\u001b[1;32m----> 4\u001b[0m \u001b[43mnp\u001b[49m\u001b[38;5;241;43m.\u001b[39;49m\u001b[43margwhere\u001b[49m\u001b[43m(\u001b[49m\u001b[43ma\u001b[49m\u001b[43m \u001b[49m\u001b[38;5;241;43m>\u001b[39;49m\u001b[43m \u001b[49m\u001b[43ma\u001b[49m\u001b[38;5;241;43m.\u001b[39;49m\u001b[43mmean\u001b[49m\u001b[43m(\u001b[49m\u001b[43m)\u001b[49m\u001b[43m)\u001b[49m\n",
      "File \u001b[1;32m<__array_function__ internals>:180\u001b[0m, in \u001b[0;36margwhere\u001b[1;34m(*args, **kwargs)\u001b[0m\n",
      "File \u001b[1;32m~\\AppData\\Local\\Programs\\Python\\Python39\\lib\\site-packages\\numpy\\core\\numeric.py:624\u001b[0m, in \u001b[0;36margwhere\u001b[1;34m(a)\u001b[0m\n\u001b[0;32m    622\u001b[0m     \u001b[38;5;66;03m# then remove the added dimension\u001b[39;00m\n\u001b[0;32m    623\u001b[0m     \u001b[38;5;28;01mreturn\u001b[39;00m argwhere(a)[:,:\u001b[38;5;241m0\u001b[39m]\n\u001b[1;32m--> 624\u001b[0m \u001b[38;5;28;01mreturn\u001b[39;00m transpose(\u001b[43mnonzero\u001b[49m\u001b[43m(\u001b[49m\u001b[43ma\u001b[49m\u001b[43m)\u001b[49m)\n",
      "File \u001b[1;32m<__array_function__ internals>:180\u001b[0m, in \u001b[0;36mnonzero\u001b[1;34m(*args, **kwargs)\u001b[0m\n",
      "File \u001b[1;32m~\\AppData\\Local\\Programs\\Python\\Python39\\lib\\site-packages\\numpy\\core\\fromnumeric.py:1958\u001b[0m, in \u001b[0;36mnonzero\u001b[1;34m(a)\u001b[0m\n\u001b[0;32m   1866\u001b[0m \u001b[38;5;129m@array_function_dispatch\u001b[39m(_nonzero_dispatcher)\n\u001b[0;32m   1867\u001b[0m \u001b[38;5;28;01mdef\u001b[39;00m \u001b[38;5;21mnonzero\u001b[39m(a):\n\u001b[0;32m   1868\u001b[0m     \u001b[38;5;124;03m\"\"\"\u001b[39;00m\n\u001b[0;32m   1869\u001b[0m \u001b[38;5;124;03m    Return the indices of the elements that are non-zero.\u001b[39;00m\n\u001b[0;32m   1870\u001b[0m \n\u001b[1;32m   (...)\u001b[0m\n\u001b[0;32m   1956\u001b[0m \n\u001b[0;32m   1957\u001b[0m \u001b[38;5;124;03m    \"\"\"\u001b[39;00m\n\u001b[1;32m-> 1958\u001b[0m     \u001b[38;5;28;01mreturn\u001b[39;00m \u001b[43m_wrapfunc\u001b[49m\u001b[43m(\u001b[49m\u001b[43ma\u001b[49m\u001b[43m,\u001b[49m\u001b[43m \u001b[49m\u001b[38;5;124;43m'\u001b[39;49m\u001b[38;5;124;43mnonzero\u001b[39;49m\u001b[38;5;124;43m'\u001b[39;49m\u001b[43m)\u001b[49m\n",
      "File \u001b[1;32m~\\AppData\\Local\\Programs\\Python\\Python39\\lib\\site-packages\\numpy\\core\\fromnumeric.py:54\u001b[0m, in \u001b[0;36m_wrapfunc\u001b[1;34m(obj, method, *args, **kwds)\u001b[0m\n\u001b[0;32m     52\u001b[0m bound \u001b[38;5;241m=\u001b[39m \u001b[38;5;28mgetattr\u001b[39m(obj, method, \u001b[38;5;28;01mNone\u001b[39;00m)\n\u001b[0;32m     53\u001b[0m \u001b[38;5;28;01mif\u001b[39;00m bound \u001b[38;5;129;01mis\u001b[39;00m \u001b[38;5;28;01mNone\u001b[39;00m:\n\u001b[1;32m---> 54\u001b[0m     \u001b[38;5;28;01mreturn\u001b[39;00m _wrapit(obj, method, \u001b[38;5;241m*\u001b[39margs, \u001b[38;5;241m*\u001b[39m\u001b[38;5;241m*\u001b[39mkwds)\n\u001b[0;32m     56\u001b[0m \u001b[38;5;28;01mtry\u001b[39;00m:\n\u001b[0;32m     57\u001b[0m     \u001b[38;5;28;01mreturn\u001b[39;00m bound(\u001b[38;5;241m*\u001b[39margs, \u001b[38;5;241m*\u001b[39m\u001b[38;5;241m*\u001b[39mkwds)\n",
      "File \u001b[1;32m~\\AppData\\Local\\Programs\\Python\\Python39\\lib\\site-packages\\numpy\\core\\fromnumeric.py:47\u001b[0m, in \u001b[0;36m_wrapit\u001b[1;34m(obj, method, *args, **kwds)\u001b[0m\n\u001b[0;32m     45\u001b[0m     \u001b[38;5;28;01mif\u001b[39;00m \u001b[38;5;129;01mnot\u001b[39;00m \u001b[38;5;28misinstance\u001b[39m(result, mu\u001b[38;5;241m.\u001b[39mndarray):\n\u001b[0;32m     46\u001b[0m         result \u001b[38;5;241m=\u001b[39m asarray(result)\n\u001b[1;32m---> 47\u001b[0m     result \u001b[38;5;241m=\u001b[39m \u001b[43mwrap\u001b[49m\u001b[43m(\u001b[49m\u001b[43mresult\u001b[49m\u001b[43m)\u001b[49m\n\u001b[0;32m     48\u001b[0m \u001b[38;5;28;01mreturn\u001b[39;00m result\n",
      "File \u001b[1;32m~\\AppData\\Local\\Programs\\Python\\Python39\\lib\\site-packages\\pandas\\core\\generic.py:2095\u001b[0m, in \u001b[0;36mNDFrame.__array_wrap__\u001b[1;34m(self, result, context)\u001b[0m\n\u001b[0;32m   2093\u001b[0m     \u001b[38;5;28;01mreturn\u001b[39;00m res\n\u001b[0;32m   2094\u001b[0m d \u001b[38;5;241m=\u001b[39m \u001b[38;5;28mself\u001b[39m\u001b[38;5;241m.\u001b[39m_construct_axes_dict(\u001b[38;5;28mself\u001b[39m\u001b[38;5;241m.\u001b[39m_AXIS_ORDERS, copy\u001b[38;5;241m=\u001b[39m\u001b[38;5;28;01mFalse\u001b[39;00m)\n\u001b[1;32m-> 2095\u001b[0m \u001b[38;5;28;01mreturn\u001b[39;00m \u001b[38;5;28mself\u001b[39m\u001b[38;5;241m.\u001b[39m_constructor(res, \u001b[38;5;241m*\u001b[39m\u001b[38;5;241m*\u001b[39md)\u001b[38;5;241m.\u001b[39m__finalize__(\u001b[38;5;28mself\u001b[39m, method\u001b[38;5;241m=\u001b[39m\u001b[38;5;124m\"\u001b[39m\u001b[38;5;124m__array_wrap__\u001b[39m\u001b[38;5;124m\"\u001b[39m)\n",
      "File \u001b[1;32m~\\AppData\\Local\\Programs\\Python\\Python39\\lib\\site-packages\\pandas\\core\\series.py:442\u001b[0m, in \u001b[0;36mSeries.__init__\u001b[1;34m(self, data, index, dtype, name, copy, fastpath)\u001b[0m\n\u001b[0;32m    440\u001b[0m     index \u001b[38;5;241m=\u001b[39m default_index(\u001b[38;5;28mlen\u001b[39m(data))\n\u001b[0;32m    441\u001b[0m \u001b[38;5;28;01melif\u001b[39;00m is_list_like(data):\n\u001b[1;32m--> 442\u001b[0m     \u001b[43mcom\u001b[49m\u001b[38;5;241;43m.\u001b[39;49m\u001b[43mrequire_length_match\u001b[49m\u001b[43m(\u001b[49m\u001b[43mdata\u001b[49m\u001b[43m,\u001b[49m\u001b[43m \u001b[49m\u001b[43mindex\u001b[49m\u001b[43m)\u001b[49m\n\u001b[0;32m    444\u001b[0m \u001b[38;5;66;03m# create/copy the manager\u001b[39;00m\n\u001b[0;32m    445\u001b[0m \u001b[38;5;28;01mif\u001b[39;00m \u001b[38;5;28misinstance\u001b[39m(data, (SingleBlockManager, SingleArrayManager)):\n",
      "File \u001b[1;32m~\\AppData\\Local\\Programs\\Python\\Python39\\lib\\site-packages\\pandas\\core\\common.py:557\u001b[0m, in \u001b[0;36mrequire_length_match\u001b[1;34m(data, index)\u001b[0m\n\u001b[0;32m    553\u001b[0m \u001b[38;5;124;03m\"\"\"\u001b[39;00m\n\u001b[0;32m    554\u001b[0m \u001b[38;5;124;03mCheck the length of data matches the length of the index.\u001b[39;00m\n\u001b[0;32m    555\u001b[0m \u001b[38;5;124;03m\"\"\"\u001b[39;00m\n\u001b[0;32m    556\u001b[0m \u001b[38;5;28;01mif\u001b[39;00m \u001b[38;5;28mlen\u001b[39m(data) \u001b[38;5;241m!=\u001b[39m \u001b[38;5;28mlen\u001b[39m(index):\n\u001b[1;32m--> 557\u001b[0m     \u001b[38;5;28;01mraise\u001b[39;00m \u001b[38;5;167;01mValueError\u001b[39;00m(\n\u001b[0;32m    558\u001b[0m         \u001b[38;5;124m\"\u001b[39m\u001b[38;5;124mLength of values \u001b[39m\u001b[38;5;124m\"\u001b[39m\n\u001b[0;32m    559\u001b[0m         \u001b[38;5;124mf\u001b[39m\u001b[38;5;124m\"\u001b[39m\u001b[38;5;124m(\u001b[39m\u001b[38;5;132;01m{\u001b[39;00m\u001b[38;5;28mlen\u001b[39m(data)\u001b[38;5;132;01m}\u001b[39;00m\u001b[38;5;124m) \u001b[39m\u001b[38;5;124m\"\u001b[39m\n\u001b[0;32m    560\u001b[0m         \u001b[38;5;124m\"\u001b[39m\u001b[38;5;124mdoes not match length of index \u001b[39m\u001b[38;5;124m\"\u001b[39m\n\u001b[0;32m    561\u001b[0m         \u001b[38;5;124mf\u001b[39m\u001b[38;5;124m\"\u001b[39m\u001b[38;5;124m(\u001b[39m\u001b[38;5;132;01m{\u001b[39;00m\u001b[38;5;28mlen\u001b[39m(index)\u001b[38;5;132;01m}\u001b[39;00m\u001b[38;5;124m)\u001b[39m\u001b[38;5;124m\"\u001b[39m\n\u001b[0;32m    562\u001b[0m     )\n",
      "\u001b[1;31mValueError\u001b[0m: Length of values (1) does not match length of index (9)"
     ]
    }
   ],
   "source": [
    "a = pd.Series(np.random.randint(1, 50, 9))\n",
    "\n",
    "print('a: ', a.tolist(), 'mean: ', round(a.mean()))\n",
    "np.argwhere(a > a.mean())"
   ]
  },
  {
   "cell_type": "markdown",
   "id": "a469cc22",
   "metadata": {},
   "source": [
    "### 53. How to get the last n rows of a dataframe with row sum > 100?"
   ]
  },
  {
   "cell_type": "code",
   "execution_count": 5,
   "id": "37e73670",
   "metadata": {},
   "outputs": [
    {
     "name": "stdout",
     "output_type": "stream",
     "text": [
      "    0   1   2   3   4   5   6   7   8   9\n",
      "1  19   2  48   3  35  30   8  22  38  11\n",
      "2   3  12  23  46  42   4  42  12  16   6\n"
     ]
    }
   ],
   "source": [
    "df = pd.DataFrame(np.random.randint(1, 50, 30).reshape(-1, 10))\n",
    "\n",
    "rowsums = df.apply(np.sum, axis=1)\n",
    "\n",
    "last_two_rows = df.iloc[np.where(rowsums > 100)[0][-2:], :]\n",
    "\n",
    "print(last_two_rows)"
   ]
  },
  {
   "cell_type": "markdown",
   "id": "6250f972",
   "metadata": {},
   "source": [
    "### 56. How to swap two rows of a dataframe?"
   ]
  },
  {
   "cell_type": "code",
   "execution_count": 12,
   "id": "26131e76",
   "metadata": {},
   "outputs": [
    {
     "data": {
      "text/html": [
       "<div>\n",
       "<style scoped>\n",
       "    .dataframe tbody tr th:only-of-type {\n",
       "        vertical-align: middle;\n",
       "    }\n",
       "\n",
       "    .dataframe tbody tr th {\n",
       "        vertical-align: top;\n",
       "    }\n",
       "\n",
       "    .dataframe thead th {\n",
       "        text-align: right;\n",
       "    }\n",
       "</style>\n",
       "<table border=\"1\" class=\"dataframe\">\n",
       "  <thead>\n",
       "    <tr style=\"text-align: right;\">\n",
       "      <th></th>\n",
       "      <th>0</th>\n",
       "      <th>1</th>\n",
       "      <th>2</th>\n",
       "      <th>3</th>\n",
       "      <th>4</th>\n",
       "      <th>5</th>\n",
       "      <th>6</th>\n",
       "      <th>7</th>\n",
       "      <th>8</th>\n",
       "      <th>9</th>\n",
       "    </tr>\n",
       "  </thead>\n",
       "  <tbody>\n",
       "    <tr>\n",
       "      <th>0</th>\n",
       "      <td>0</td>\n",
       "      <td>1</td>\n",
       "      <td>2</td>\n",
       "      <td>3</td>\n",
       "      <td>4</td>\n",
       "      <td>5</td>\n",
       "      <td>6</td>\n",
       "      <td>7</td>\n",
       "      <td>8</td>\n",
       "      <td>9</td>\n",
       "    </tr>\n",
       "    <tr>\n",
       "      <th>1</th>\n",
       "      <td>20</td>\n",
       "      <td>21</td>\n",
       "      <td>22</td>\n",
       "      <td>23</td>\n",
       "      <td>24</td>\n",
       "      <td>25</td>\n",
       "      <td>26</td>\n",
       "      <td>27</td>\n",
       "      <td>28</td>\n",
       "      <td>29</td>\n",
       "    </tr>\n",
       "    <tr>\n",
       "      <th>2</th>\n",
       "      <td>10</td>\n",
       "      <td>11</td>\n",
       "      <td>12</td>\n",
       "      <td>13</td>\n",
       "      <td>14</td>\n",
       "      <td>15</td>\n",
       "      <td>16</td>\n",
       "      <td>17</td>\n",
       "      <td>18</td>\n",
       "      <td>19</td>\n",
       "    </tr>\n",
       "    <tr>\n",
       "      <th>3</th>\n",
       "      <td>30</td>\n",
       "      <td>31</td>\n",
       "      <td>32</td>\n",
       "      <td>33</td>\n",
       "      <td>34</td>\n",
       "      <td>35</td>\n",
       "      <td>36</td>\n",
       "      <td>37</td>\n",
       "      <td>38</td>\n",
       "      <td>39</td>\n",
       "    </tr>\n",
       "    <tr>\n",
       "      <th>4</th>\n",
       "      <td>40</td>\n",
       "      <td>41</td>\n",
       "      <td>42</td>\n",
       "      <td>43</td>\n",
       "      <td>44</td>\n",
       "      <td>45</td>\n",
       "      <td>46</td>\n",
       "      <td>47</td>\n",
       "      <td>48</td>\n",
       "      <td>49</td>\n",
       "    </tr>\n",
       "    <tr>\n",
       "      <th>5</th>\n",
       "      <td>50</td>\n",
       "      <td>51</td>\n",
       "      <td>52</td>\n",
       "      <td>53</td>\n",
       "      <td>54</td>\n",
       "      <td>55</td>\n",
       "      <td>56</td>\n",
       "      <td>57</td>\n",
       "      <td>58</td>\n",
       "      <td>59</td>\n",
       "    </tr>\n",
       "    <tr>\n",
       "      <th>6</th>\n",
       "      <td>60</td>\n",
       "      <td>61</td>\n",
       "      <td>62</td>\n",
       "      <td>63</td>\n",
       "      <td>64</td>\n",
       "      <td>65</td>\n",
       "      <td>66</td>\n",
       "      <td>67</td>\n",
       "      <td>68</td>\n",
       "      <td>69</td>\n",
       "    </tr>\n",
       "    <tr>\n",
       "      <th>7</th>\n",
       "      <td>70</td>\n",
       "      <td>71</td>\n",
       "      <td>72</td>\n",
       "      <td>73</td>\n",
       "      <td>74</td>\n",
       "      <td>75</td>\n",
       "      <td>76</td>\n",
       "      <td>77</td>\n",
       "      <td>78</td>\n",
       "      <td>79</td>\n",
       "    </tr>\n",
       "    <tr>\n",
       "      <th>8</th>\n",
       "      <td>80</td>\n",
       "      <td>81</td>\n",
       "      <td>82</td>\n",
       "      <td>83</td>\n",
       "      <td>84</td>\n",
       "      <td>85</td>\n",
       "      <td>86</td>\n",
       "      <td>87</td>\n",
       "      <td>88</td>\n",
       "      <td>89</td>\n",
       "    </tr>\n",
       "    <tr>\n",
       "      <th>9</th>\n",
       "      <td>90</td>\n",
       "      <td>91</td>\n",
       "      <td>92</td>\n",
       "      <td>93</td>\n",
       "      <td>94</td>\n",
       "      <td>95</td>\n",
       "      <td>96</td>\n",
       "      <td>97</td>\n",
       "      <td>98</td>\n",
       "      <td>99</td>\n",
       "    </tr>\n",
       "  </tbody>\n",
       "</table>\n",
       "</div>"
      ],
      "text/plain": [
       "    0   1   2   3   4   5   6   7   8   9\n",
       "0   0   1   2   3   4   5   6   7   8   9\n",
       "1  20  21  22  23  24  25  26  27  28  29\n",
       "2  10  11  12  13  14  15  16  17  18  19\n",
       "3  30  31  32  33  34  35  36  37  38  39\n",
       "4  40  41  42  43  44  45  46  47  48  49\n",
       "5  50  51  52  53  54  55  56  57  58  59\n",
       "6  60  61  62  63  64  65  66  67  68  69\n",
       "7  70  71  72  73  74  75  76  77  78  79\n",
       "8  80  81  82  83  84  85  86  87  88  89\n",
       "9  90  91  92  93  94  95  96  97  98  99"
      ]
     },
     "execution_count": 12,
     "metadata": {},
     "output_type": "execute_result"
    }
   ],
   "source": [
    "df = pd.DataFrame(np.arange(100).reshape(10, -1))\n",
    "\n",
    "def swap_two_rows(df, i1, i2):\n",
    "    a, b = df.iloc[i1, :].copy(), df.iloc[i2, :].copy()\n",
    "    df.iloc[i1, :], df.iloc[i2, :] = b, a\n",
    "    return df\n",
    "\n",
    "swap_two_rows(df, 1, 2)"
   ]
  },
  {
   "cell_type": "markdown",
   "id": "9e59dac2",
   "metadata": {},
   "source": [
    "### 57. How to reverse the rows of a dataframe?"
   ]
  },
  {
   "cell_type": "code",
   "execution_count": 14,
   "id": "f5bd7e3b",
   "metadata": {},
   "outputs": [
    {
     "name": "stdout",
     "output_type": "stream",
     "text": [
      "    0   1   2   3   4\n",
      "0   0   1   2   3   4\n",
      "1   5   6   7   8   9\n",
      "2  10  11  12  13  14\n",
      "3  15  16  17  18  19\n",
      "4  20  21  22  23  24\n",
      "\n",
      "data after reversing a row\n",
      "    0   1   2   3   4\n",
      "4  20  21  22  23  24\n",
      "3  15  16  17  18  19\n",
      "2  10  11  12  13  14\n",
      "1   5   6   7   8   9\n",
      "0   0   1   2   3   4\n"
     ]
    }
   ],
   "source": [
    "df = pd.DataFrame(np.arange(25).reshape(5, -1))\n",
    "\n",
    "print(df)\n",
    "print('\\ndata after reversing the rows')\n",
    "print(df.loc[df.index[::-1], :])"
   ]
  },
  {
   "cell_type": "markdown",
   "id": "c8964ebf",
   "metadata": {},
   "source": [
    "### 59. Which column contains the highest number of row-wise maximum values?"
   ]
  },
  {
   "cell_type": "code",
   "execution_count": 20,
   "id": "816e0a05",
   "metadata": {},
   "outputs": [
    {
     "name": "stdout",
     "output_type": "stream",
     "text": [
      "    0   1   2   3\n",
      "0  12   5   8  16\n",
      "1   6  10  25  20\n",
      "2  47   9  26  39\n",
      "3  26   7  24  18\n",
      "4  21  14   2  46\n",
      "Column with highest row maxes:  3\n"
     ]
    }
   ],
   "source": [
    "df = pd.DataFrame(np.random.randint(1, 50, 20).reshape(5, -1))\n",
    "\n",
    "print(df)\n",
    "\n",
    "row_max = df.apply(np.argmax, axis=1).value_counts().index[0]\n",
    "\n",
    "print('Column with highest row maxes: ',row_max)"
   ]
  },
  {
   "cell_type": "markdown",
   "id": "64eab09e",
   "metadata": {},
   "source": [
    "### 62. How to create a column containing the minimum by maximum of each row?"
   ]
  },
  {
   "cell_type": "code",
   "execution_count": 29,
   "id": "e14f8b3e",
   "metadata": {},
   "outputs": [
    {
     "name": "stdout",
     "output_type": "stream",
     "text": [
      "   0  1  2  3  4\n",
      "0  7  3  1  3  5\n",
      "1  2  1  3  1  9\n",
      "2  8  1  7  8  4\n",
      "3  3  9  6  9  7\n",
      "4  3  1  3  6  2\n",
      "\n",
      "The column containg the minimum by maximum of each row is :\n",
      "0    0.142857\n",
      "1    0.111111\n",
      "2    0.125000\n",
      "3    0.333333\n",
      "4    0.166667\n",
      "dtype: float64\n"
     ]
    }
   ],
   "source": [
    "df = pd.DataFrame(np.random.randint(1,10, 25).reshape(5, -1))\n",
    "\n",
    "print(df)\n",
    "print('\\nThe column containg the minimum by maximum of each row is :')\n",
    "min_by_max = df.apply(lambda x: np.min(x)/np.max(x), axis=1)\n",
    "\n",
    "print(min_by_max)"
   ]
  },
  {
   "cell_type": "markdown",
   "id": "1acd26e0",
   "metadata": {},
   "source": [
    "### 66. How to replace both the diagonals of dataframe with 0?"
   ]
  },
  {
   "cell_type": "code",
   "execution_count": 45,
   "id": "d2fe3bc4",
   "metadata": {},
   "outputs": [
    {
     "name": "stdout",
     "output_type": "stream",
     "text": [
      "   0  1  2\n",
      "0  1  2  4\n",
      "1  4  2  2\n",
      "2  2  4  3\n",
      "\n",
      "matrix after making the diagnol elements o :\n",
      "   0  1  2\n",
      "0  0  2  0\n",
      "1  4  0  2\n",
      "2  0  4  0\n"
     ]
    }
   ],
   "source": [
    "df = pd.DataFrame(np.random.randint(1,5,9).reshape(3, -1))\n",
    "\n",
    "print(df)\n",
    "\n",
    "for i in range(df.shape[0]):\n",
    "    df.iat[i, i] = 0\n",
    "    df.iat[df.shape[0]-i-1, i] = 0\n",
    "    \n",
    "print('\\nmatrix after making the diagnol elements o :' )\n",
    "print(df)"
   ]
  },
  {
   "cell_type": "markdown",
   "id": "2cbd08f6",
   "metadata": {},
   "source": [
    "### 71. How to remove rows from a dataframe that are present in another dataframe?"
   ]
  },
  {
   "cell_type": "code",
   "execution_count": 49,
   "id": "8570b7f7",
   "metadata": {},
   "outputs": [
    {
     "name": "stdout",
     "output_type": "stream",
     "text": [
      "data_1 : \n",
      "[[1 3 3 2]\n",
      " [4 1 3 1]\n",
      " [1 1 3 4]\n",
      " [4 4 1 2]]\n",
      "\n",
      "data_2 :\n",
      "[[1 3 2 4]\n",
      " [3 4 4 3]\n",
      " [1 4 3 1]\n",
      " [2 2 4 3]]\n"
     ]
    },
    {
     "ename": "AttributeError",
     "evalue": "'numpy.ndarray' object has no attribute 'isin'",
     "output_type": "error",
     "traceback": [
      "\u001b[1;31m---------------------------------------------------------------------------\u001b[0m",
      "\u001b[1;31mAttributeError\u001b[0m                            Traceback (most recent call last)",
      "Input \u001b[1;32mIn [49]\u001b[0m, in \u001b[0;36m<cell line: 10>\u001b[1;34m()\u001b[0m\n\u001b[0;32m      7\u001b[0m \u001b[38;5;28mprint\u001b[39m(\u001b[38;5;124m'\u001b[39m\u001b[38;5;130;01m\\n\u001b[39;00m\u001b[38;5;124mdata_2 :\u001b[39m\u001b[38;5;124m'\u001b[39m)\n\u001b[0;32m      8\u001b[0m \u001b[38;5;28mprint\u001b[39m(df2)\n\u001b[1;32m---> 10\u001b[0m \u001b[38;5;28mprint\u001b[39m(df1[\u001b[38;5;241m~\u001b[39m\u001b[43mdf1\u001b[49m\u001b[38;5;241;43m.\u001b[39;49m\u001b[43misin\u001b[49m(df2)\u001b[38;5;241m.\u001b[39mall(\u001b[38;5;241m1\u001b[39m)])\n",
      "\u001b[1;31mAttributeError\u001b[0m: 'numpy.ndarray' object has no attribute 'isin'"
     ]
    }
   ],
   "source": [
    "df1 = np.random.randint(1,5,16).reshape(4, -1)\n",
    "\n",
    "print('data_1 : ')\n",
    "print(df1)\n",
    "df2 = np.random.randint(1,5,16).reshape(4, -1)\n",
    "\n",
    "print('\\ndata_2 :')\n",
    "print(df2)\n",
    "\n",
    "print(df1[~df1.isin(df2).all(1)])"
   ]
  },
  {
   "cell_type": "markdown",
   "id": "361c320e",
   "metadata": {},
   "source": [
    "### 72. How to get the positions where values of two columns match?"
   ]
  },
  {
   "cell_type": "code",
   "execution_count": 52,
   "id": "f84c54cb",
   "metadata": {},
   "outputs": [
    {
     "name": "stdout",
     "output_type": "stream",
     "text": [
      "data_1 : \n",
      "[[4 1 1 2]\n",
      " [3 4 2 2]\n",
      " [2 2 4 1]\n",
      " [3 4 4 1]]\n",
      "\n",
      "data_2 :\n",
      "[[2 4 2 3]\n",
      " [2 1 1 2]\n",
      " [1 2 4 4]\n",
      " [2 4 2 2]]\n"
     ]
    },
    {
     "data": {
      "text/plain": [
       "(array([1, 2, 2, 3], dtype=int64), array([3, 1, 2, 1], dtype=int64))"
      ]
     },
     "execution_count": 52,
     "metadata": {},
     "output_type": "execute_result"
    }
   ],
   "source": [
    "df1 = np.random.randint(1,5,16).reshape(4, -1)\n",
    "\n",
    "print('data_1 : ')\n",
    "print(df1)\n",
    "df2 = np.random.randint(1,5,16).reshape(4, -1)\n",
    "\n",
    "print('\\ndata_2 :')\n",
    "print(df2)\n",
    "\n",
    "np.where(df1 == df2)"
   ]
  },
  {
   "cell_type": "markdown",
   "id": "0ef77f7e",
   "metadata": {},
   "source": [
    "### 74. How to get the frequency of unique values in the entire dataframe?"
   ]
  },
  {
   "cell_type": "code",
   "execution_count": 55,
   "id": "8a5660e8",
   "metadata": {},
   "outputs": [
    {
     "name": "stdout",
     "output_type": "stream",
     "text": [
      "   0  1  2  3\n",
      "0  8  3  1  3\n",
      "1  1  4  1  2\n",
      "2  1  5  7  7\n",
      "3  1  4  6  6\n",
      "4  7  5  2  2\n"
     ]
    },
    {
     "data": {
      "text/plain": [
       "1    5\n",
       "2    3\n",
       "7    3\n",
       "3    2\n",
       "4    2\n",
       "5    2\n",
       "6    2\n",
       "8    1\n",
       "dtype: int64"
      ]
     },
     "execution_count": 55,
     "metadata": {},
     "output_type": "execute_result"
    }
   ],
   "source": [
    "df = pd.DataFrame(np.random.randint(1, 10, 20).reshape(-1, 4))\n",
    "\n",
    "print(df)\n",
    "\n",
    "pd.value_counts(df.values.ravel())"
   ]
  },
  {
   "cell_type": "code",
   "execution_count": null,
   "id": "08b75cb9",
   "metadata": {},
   "outputs": [],
   "source": []
  }
 ],
 "metadata": {
  "kernelspec": {
   "display_name": "Python 3 (ipykernel)",
   "language": "python",
   "name": "python3"
  },
  "language_info": {
   "codemirror_mode": {
    "name": "ipython",
    "version": 3
   },
   "file_extension": ".py",
   "mimetype": "text/x-python",
   "name": "python",
   "nbconvert_exporter": "python",
   "pygments_lexer": "ipython3",
   "version": "3.9.13"
  }
 },
 "nbformat": 4,
 "nbformat_minor": 5
}
